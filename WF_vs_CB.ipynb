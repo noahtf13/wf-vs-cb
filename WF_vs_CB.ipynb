{
  "nbformat": 4,
  "nbformat_minor": 0,
  "metadata": {
    "application/vnd.databricks.v1+notebook": {
      "dashboards": [],
      "language": "python",
      "notebookMetadata": {
        "pythonIndentUnit": 4
      },
      "notebookName": "WF vs CB",
      "notebookOrigID": 836770683040443,
      "widgets": {}
    },
    "colab": {
      "name": "WF vs CB.ipynb",
      "provenance": [],
      "include_colab_link": true
    },
    "kernelspec": {
      "display_name": "Python 3",
      "name": "python3"
    },
    "language_info": {
      "name": "python"
    }
  },
  "cells": [
    {
      "cell_type": "markdown",
      "metadata": {
        "id": "view-in-github",
        "colab_type": "text"
      },
      "source": [
        "<a href=\"https://colab.research.google.com/github/noahtf13/wf-vs-cb/blob/main/WF_vs_CB.ipynb\" target=\"_parent\"><img src=\"https://colab.research.google.com/assets/colab-badge.svg\" alt=\"Open In Colab\"/></a>"
      ]
    },
    {
      "cell_type": "code",
      "metadata": {
        "colab": {
          "base_uri": "https://localhost:8080/"
        },
        "id": "UWYdhdp46VAC",
        "outputId": "8f4413f3-3448-43f7-a583-da5373297a39"
      },
      "source": [
        "!pip install pyspark"
      ],
      "execution_count": 1,
      "outputs": [
        {
          "output_type": "stream",
          "name": "stdout",
          "text": [
            "Collecting pyspark\n",
            "  Downloading pyspark-3.1.2.tar.gz (212.4 MB)\n",
            "\u001b[K     |████████████████████████████████| 212.4 MB 63 kB/s \n",
            "\u001b[?25hCollecting py4j==0.10.9\n",
            "  Downloading py4j-0.10.9-py2.py3-none-any.whl (198 kB)\n",
            "\u001b[K     |████████████████████████████████| 198 kB 70.6 MB/s \n",
            "\u001b[?25hBuilding wheels for collected packages: pyspark\n",
            "  Building wheel for pyspark (setup.py) ... \u001b[?25l\u001b[?25hdone\n",
            "  Created wheel for pyspark: filename=pyspark-3.1.2-py2.py3-none-any.whl size=212880768 sha256=9bfb7e94cc98af88cb97ea12a3c5f05e9e62de07b1f365a877a10f1aa311a30a\n",
            "  Stored in directory: /root/.cache/pip/wheels/a5/0a/c1/9561f6fecb759579a7d863dcd846daaa95f598744e71b02c77\n",
            "Successfully built pyspark\n",
            "Installing collected packages: py4j, pyspark\n",
            "Successfully installed py4j-0.10.9 pyspark-3.1.2\n"
          ]
        }
      ]
    },
    {
      "cell_type": "code",
      "metadata": {
        "colab": {
          "base_uri": "https://localhost:8080/"
        },
        "id": "oO9UhKvs6UJU",
        "outputId": "496d9caa-451e-4ae0-ada7-9d2b73fbd873"
      },
      "source": [
        "!pip install h3\n",
        "!pip install geopandas\n",
        "!pip install h3pandas\n",
        "!pip install shapely\n",
        "!pip install geopy\n",
        "!pip install requests-html\n",
        "!pip install nest_asyncio\n",
        "!pip install geojson"
      ],
      "execution_count": 2,
      "outputs": [
        {
          "output_type": "stream",
          "name": "stdout",
          "text": [
            "Collecting h3\n",
            "  Downloading h3-3.7.3-cp37-cp37m-manylinux2010_x86_64.whl (793 kB)\n",
            "\u001b[?25l\r\u001b[K     |▍                               | 10 kB 27.8 MB/s eta 0:00:01\r\u001b[K     |▉                               | 20 kB 32.3 MB/s eta 0:00:01\r\u001b[K     |█▎                              | 30 kB 24.6 MB/s eta 0:00:01\r\u001b[K     |█▋                              | 40 kB 17.5 MB/s eta 0:00:01\r\u001b[K     |██                              | 51 kB 8.3 MB/s eta 0:00:01\r\u001b[K     |██▌                             | 61 kB 9.0 MB/s eta 0:00:01\r\u001b[K     |██▉                             | 71 kB 7.4 MB/s eta 0:00:01\r\u001b[K     |███▎                            | 81 kB 8.2 MB/s eta 0:00:01\r\u001b[K     |███▊                            | 92 kB 6.9 MB/s eta 0:00:01\r\u001b[K     |████▏                           | 102 kB 7.6 MB/s eta 0:00:01\r\u001b[K     |████▌                           | 112 kB 7.6 MB/s eta 0:00:01\r\u001b[K     |█████                           | 122 kB 7.6 MB/s eta 0:00:01\r\u001b[K     |█████▍                          | 133 kB 7.6 MB/s eta 0:00:01\r\u001b[K     |█████▊                          | 143 kB 7.6 MB/s eta 0:00:01\r\u001b[K     |██████▏                         | 153 kB 7.6 MB/s eta 0:00:01\r\u001b[K     |██████▋                         | 163 kB 7.6 MB/s eta 0:00:01\r\u001b[K     |███████                         | 174 kB 7.6 MB/s eta 0:00:01\r\u001b[K     |███████▍                        | 184 kB 7.6 MB/s eta 0:00:01\r\u001b[K     |███████▉                        | 194 kB 7.6 MB/s eta 0:00:01\r\u001b[K     |████████▎                       | 204 kB 7.6 MB/s eta 0:00:01\r\u001b[K     |████████▋                       | 215 kB 7.6 MB/s eta 0:00:01\r\u001b[K     |█████████                       | 225 kB 7.6 MB/s eta 0:00:01\r\u001b[K     |█████████▌                      | 235 kB 7.6 MB/s eta 0:00:01\r\u001b[K     |██████████                      | 245 kB 7.6 MB/s eta 0:00:01\r\u001b[K     |██████████▎                     | 256 kB 7.6 MB/s eta 0:00:01\r\u001b[K     |██████████▊                     | 266 kB 7.6 MB/s eta 0:00:01\r\u001b[K     |███████████▏                    | 276 kB 7.6 MB/s eta 0:00:01\r\u001b[K     |███████████▌                    | 286 kB 7.6 MB/s eta 0:00:01\r\u001b[K     |████████████                    | 296 kB 7.6 MB/s eta 0:00:01\r\u001b[K     |████████████▍                   | 307 kB 7.6 MB/s eta 0:00:01\r\u001b[K     |████████████▉                   | 317 kB 7.6 MB/s eta 0:00:01\r\u001b[K     |█████████████▏                  | 327 kB 7.6 MB/s eta 0:00:01\r\u001b[K     |█████████████▋                  | 337 kB 7.6 MB/s eta 0:00:01\r\u001b[K     |██████████████                  | 348 kB 7.6 MB/s eta 0:00:01\r\u001b[K     |██████████████▍                 | 358 kB 7.6 MB/s eta 0:00:01\r\u001b[K     |██████████████▉                 | 368 kB 7.6 MB/s eta 0:00:01\r\u001b[K     |███████████████▎                | 378 kB 7.6 MB/s eta 0:00:01\r\u001b[K     |███████████████▊                | 389 kB 7.6 MB/s eta 0:00:01\r\u001b[K     |████████████████                | 399 kB 7.6 MB/s eta 0:00:01\r\u001b[K     |████████████████▌               | 409 kB 7.6 MB/s eta 0:00:01\r\u001b[K     |█████████████████               | 419 kB 7.6 MB/s eta 0:00:01\r\u001b[K     |█████████████████▎              | 430 kB 7.6 MB/s eta 0:00:01\r\u001b[K     |█████████████████▊              | 440 kB 7.6 MB/s eta 0:00:01\r\u001b[K     |██████████████████▏             | 450 kB 7.6 MB/s eta 0:00:01\r\u001b[K     |██████████████████▋             | 460 kB 7.6 MB/s eta 0:00:01\r\u001b[K     |███████████████████             | 471 kB 7.6 MB/s eta 0:00:01\r\u001b[K     |███████████████████▍            | 481 kB 7.6 MB/s eta 0:00:01\r\u001b[K     |███████████████████▉            | 491 kB 7.6 MB/s eta 0:00:01\r\u001b[K     |████████████████████▏           | 501 kB 7.6 MB/s eta 0:00:01\r\u001b[K     |████████████████████▋           | 512 kB 7.6 MB/s eta 0:00:01\r\u001b[K     |█████████████████████           | 522 kB 7.6 MB/s eta 0:00:01\r\u001b[K     |█████████████████████▌          | 532 kB 7.6 MB/s eta 0:00:01\r\u001b[K     |█████████████████████▉          | 542 kB 7.6 MB/s eta 0:00:01\r\u001b[K     |██████████████████████▎         | 552 kB 7.6 MB/s eta 0:00:01\r\u001b[K     |██████████████████████▊         | 563 kB 7.6 MB/s eta 0:00:01\r\u001b[K     |███████████████████████         | 573 kB 7.6 MB/s eta 0:00:01\r\u001b[K     |███████████████████████▌        | 583 kB 7.6 MB/s eta 0:00:01\r\u001b[K     |████████████████████████        | 593 kB 7.6 MB/s eta 0:00:01\r\u001b[K     |████████████████████████▍       | 604 kB 7.6 MB/s eta 0:00:01\r\u001b[K     |████████████████████████▊       | 614 kB 7.6 MB/s eta 0:00:01\r\u001b[K     |█████████████████████████▏      | 624 kB 7.6 MB/s eta 0:00:01\r\u001b[K     |█████████████████████████▋      | 634 kB 7.6 MB/s eta 0:00:01\r\u001b[K     |██████████████████████████      | 645 kB 7.6 MB/s eta 0:00:01\r\u001b[K     |██████████████████████████▍     | 655 kB 7.6 MB/s eta 0:00:01\r\u001b[K     |██████████████████████████▉     | 665 kB 7.6 MB/s eta 0:00:01\r\u001b[K     |███████████████████████████▎    | 675 kB 7.6 MB/s eta 0:00:01\r\u001b[K     |███████████████████████████▋    | 686 kB 7.6 MB/s eta 0:00:01\r\u001b[K     |████████████████████████████    | 696 kB 7.6 MB/s eta 0:00:01\r\u001b[K     |████████████████████████████▌   | 706 kB 7.6 MB/s eta 0:00:01\r\u001b[K     |████████████████████████████▉   | 716 kB 7.6 MB/s eta 0:00:01\r\u001b[K     |█████████████████████████████▎  | 727 kB 7.6 MB/s eta 0:00:01\r\u001b[K     |█████████████████████████████▊  | 737 kB 7.6 MB/s eta 0:00:01\r\u001b[K     |██████████████████████████████▏ | 747 kB 7.6 MB/s eta 0:00:01\r\u001b[K     |██████████████████████████████▌ | 757 kB 7.6 MB/s eta 0:00:01\r\u001b[K     |███████████████████████████████ | 768 kB 7.6 MB/s eta 0:00:01\r\u001b[K     |███████████████████████████████▍| 778 kB 7.6 MB/s eta 0:00:01\r\u001b[K     |███████████████████████████████▊| 788 kB 7.6 MB/s eta 0:00:01\r\u001b[K     |████████████████████████████████| 793 kB 7.6 MB/s \n",
            "\u001b[?25hInstalling collected packages: h3\n",
            "Successfully installed h3-3.7.3\n",
            "Collecting geopandas\n",
            "  Downloading geopandas-0.9.0-py2.py3-none-any.whl (994 kB)\n",
            "\u001b[K     |████████████████████████████████| 994 kB 6.5 MB/s \n",
            "\u001b[?25hCollecting fiona>=1.8\n",
            "  Downloading Fiona-1.8.20-cp37-cp37m-manylinux1_x86_64.whl (15.4 MB)\n",
            "\u001b[K     |████████████████████████████████| 15.4 MB 36 kB/s \n",
            "\u001b[?25hRequirement already satisfied: pandas>=0.24.0 in /usr/local/lib/python3.7/dist-packages (from geopandas) (1.1.5)\n",
            "Collecting pyproj>=2.2.0\n",
            "  Downloading pyproj-3.2.0-cp37-cp37m-manylinux2010_x86_64.whl (6.3 MB)\n",
            "\u001b[K     |████████████████████████████████| 6.3 MB 14.3 MB/s \n",
            "\u001b[?25hRequirement already satisfied: shapely>=1.6 in /usr/local/lib/python3.7/dist-packages (from geopandas) (1.7.1)\n",
            "Requirement already satisfied: setuptools in /usr/local/lib/python3.7/dist-packages (from fiona>=1.8->geopandas) (57.4.0)\n",
            "Requirement already satisfied: certifi in /usr/local/lib/python3.7/dist-packages (from fiona>=1.8->geopandas) (2021.5.30)\n",
            "Requirement already satisfied: attrs>=17 in /usr/local/lib/python3.7/dist-packages (from fiona>=1.8->geopandas) (21.2.0)\n",
            "Collecting cligj>=0.5\n",
            "  Downloading cligj-0.7.2-py3-none-any.whl (7.1 kB)\n",
            "Requirement already satisfied: six>=1.7 in /usr/local/lib/python3.7/dist-packages (from fiona>=1.8->geopandas) (1.15.0)\n",
            "Collecting click-plugins>=1.0\n",
            "  Downloading click_plugins-1.1.1-py2.py3-none-any.whl (7.5 kB)\n",
            "Collecting munch\n",
            "  Downloading munch-2.5.0-py2.py3-none-any.whl (10 kB)\n",
            "Requirement already satisfied: click>=4.0 in /usr/local/lib/python3.7/dist-packages (from fiona>=1.8->geopandas) (7.1.2)\n",
            "Requirement already satisfied: pytz>=2017.2 in /usr/local/lib/python3.7/dist-packages (from pandas>=0.24.0->geopandas) (2018.9)\n",
            "Requirement already satisfied: numpy>=1.15.4 in /usr/local/lib/python3.7/dist-packages (from pandas>=0.24.0->geopandas) (1.19.5)\n",
            "Requirement already satisfied: python-dateutil>=2.7.3 in /usr/local/lib/python3.7/dist-packages (from pandas>=0.24.0->geopandas) (2.8.2)\n",
            "Installing collected packages: munch, cligj, click-plugins, pyproj, fiona, geopandas\n",
            "Successfully installed click-plugins-1.1.1 cligj-0.7.2 fiona-1.8.20 geopandas-0.9.0 munch-2.5.0 pyproj-3.2.0\n",
            "Collecting h3pandas\n",
            "  Downloading h3pandas-0.2.2.tar.gz (73 kB)\n",
            "\u001b[K     |████████████████████████████████| 73 kB 1.6 MB/s \n",
            "\u001b[?25hRequirement already satisfied: geopandas in /usr/local/lib/python3.7/dist-packages (from h3pandas) (0.9.0)\n",
            "Requirement already satisfied: numpy in /usr/local/lib/python3.7/dist-packages (from h3pandas) (1.19.5)\n",
            "Requirement already satisfied: pandas in /usr/local/lib/python3.7/dist-packages (from h3pandas) (1.1.5)\n",
            "Requirement already satisfied: shapely in /usr/local/lib/python3.7/dist-packages (from h3pandas) (1.7.1)\n",
            "Requirement already satisfied: h3 in /usr/local/lib/python3.7/dist-packages (from h3pandas) (3.7.3)\n",
            "Requirement already satisfied: typing-extensions in /usr/local/lib/python3.7/dist-packages (from h3pandas) (3.7.4.3)\n",
            "Requirement already satisfied: fiona>=1.8 in /usr/local/lib/python3.7/dist-packages (from geopandas->h3pandas) (1.8.20)\n",
            "Requirement already satisfied: pyproj>=2.2.0 in /usr/local/lib/python3.7/dist-packages (from geopandas->h3pandas) (3.2.0)\n",
            "Requirement already satisfied: setuptools in /usr/local/lib/python3.7/dist-packages (from fiona>=1.8->geopandas->h3pandas) (57.4.0)\n",
            "Requirement already satisfied: attrs>=17 in /usr/local/lib/python3.7/dist-packages (from fiona>=1.8->geopandas->h3pandas) (21.2.0)\n",
            "Requirement already satisfied: click>=4.0 in /usr/local/lib/python3.7/dist-packages (from fiona>=1.8->geopandas->h3pandas) (7.1.2)\n",
            "Requirement already satisfied: munch in /usr/local/lib/python3.7/dist-packages (from fiona>=1.8->geopandas->h3pandas) (2.5.0)\n",
            "Requirement already satisfied: six>=1.7 in /usr/local/lib/python3.7/dist-packages (from fiona>=1.8->geopandas->h3pandas) (1.15.0)\n",
            "Requirement already satisfied: cligj>=0.5 in /usr/local/lib/python3.7/dist-packages (from fiona>=1.8->geopandas->h3pandas) (0.7.2)\n",
            "Requirement already satisfied: click-plugins>=1.0 in /usr/local/lib/python3.7/dist-packages (from fiona>=1.8->geopandas->h3pandas) (1.1.1)\n",
            "Requirement already satisfied: certifi in /usr/local/lib/python3.7/dist-packages (from fiona>=1.8->geopandas->h3pandas) (2021.5.30)\n",
            "Requirement already satisfied: pytz>=2017.2 in /usr/local/lib/python3.7/dist-packages (from pandas->h3pandas) (2018.9)\n",
            "Requirement already satisfied: python-dateutil>=2.7.3 in /usr/local/lib/python3.7/dist-packages (from pandas->h3pandas) (2.8.2)\n",
            "Building wheels for collected packages: h3pandas\n",
            "  Building wheel for h3pandas (setup.py) ... \u001b[?25l\u001b[?25hdone\n",
            "  Created wheel for h3pandas: filename=h3pandas-0.2.2-py3-none-any.whl size=17058 sha256=fea59a819cccc6c43306c8c116e24ab054df4ad09e029d2005bacbc3e3c29ec3\n",
            "  Stored in directory: /root/.cache/pip/wheels/f9/be/d1/257bdc23c924093aa650a00f74dbb69482d08983b1e33209df\n",
            "Successfully built h3pandas\n",
            "Installing collected packages: h3pandas\n",
            "Successfully installed h3pandas-0.2.2\n",
            "Requirement already satisfied: shapely in /usr/local/lib/python3.7/dist-packages (1.7.1)\n",
            "Requirement already satisfied: geopy in /usr/local/lib/python3.7/dist-packages (1.17.0)\n",
            "Requirement already satisfied: geographiclib<2,>=1.49 in /usr/local/lib/python3.7/dist-packages (from geopy) (1.52)\n",
            "Collecting requests-html\n",
            "  Downloading requests_html-0.10.0-py3-none-any.whl (13 kB)\n",
            "Collecting pyquery\n",
            "  Downloading pyquery-1.4.3-py3-none-any.whl (22 kB)\n",
            "Collecting pyppeteer>=0.0.14\n",
            "  Downloading pyppeteer-0.2.6-py3-none-any.whl (83 kB)\n",
            "\u001b[K     |████████████████████████████████| 83 kB 2.1 MB/s \n",
            "\u001b[?25hCollecting w3lib\n",
            "  Downloading w3lib-1.22.0-py2.py3-none-any.whl (20 kB)\n",
            "Requirement already satisfied: requests in /usr/local/lib/python3.7/dist-packages (from requests-html) (2.23.0)\n",
            "Requirement already satisfied: bs4 in /usr/local/lib/python3.7/dist-packages (from requests-html) (0.0.1)\n",
            "Collecting parse\n",
            "  Downloading parse-1.19.0.tar.gz (30 kB)\n",
            "Collecting fake-useragent\n",
            "  Downloading fake-useragent-0.1.11.tar.gz (13 kB)\n",
            "Collecting websockets<10.0,>=9.1\n",
            "  Downloading websockets-9.1-cp37-cp37m-manylinux2010_x86_64.whl (103 kB)\n",
            "\u001b[K     |████████████████████████████████| 103 kB 58.6 MB/s \n",
            "\u001b[?25hRequirement already satisfied: importlib-metadata>=1.4 in /usr/local/lib/python3.7/dist-packages (from pyppeteer>=0.0.14->requests-html) (4.6.4)\n",
            "Collecting pyee<9.0.0,>=8.1.0\n",
            "  Downloading pyee-8.2.2-py2.py3-none-any.whl (12 kB)\n",
            "Requirement already satisfied: appdirs<2.0.0,>=1.4.3 in /usr/local/lib/python3.7/dist-packages (from pyppeteer>=0.0.14->requests-html) (1.4.4)\n",
            "Requirement already satisfied: tqdm<5.0.0,>=4.42.1 in /usr/local/lib/python3.7/dist-packages (from pyppeteer>=0.0.14->requests-html) (4.62.0)\n",
            "Collecting urllib3<2.0.0,>=1.25.8\n",
            "  Downloading urllib3-1.26.6-py2.py3-none-any.whl (138 kB)\n",
            "\u001b[K     |████████████████████████████████| 138 kB 70.6 MB/s \n",
            "\u001b[?25hRequirement already satisfied: zipp>=0.5 in /usr/local/lib/python3.7/dist-packages (from importlib-metadata>=1.4->pyppeteer>=0.0.14->requests-html) (3.5.0)\n",
            "Requirement already satisfied: typing-extensions>=3.6.4 in /usr/local/lib/python3.7/dist-packages (from importlib-metadata>=1.4->pyppeteer>=0.0.14->requests-html) (3.7.4.3)\n",
            "Requirement already satisfied: beautifulsoup4 in /usr/local/lib/python3.7/dist-packages (from bs4->requests-html) (4.6.3)\n",
            "Collecting cssselect>0.7.9\n",
            "  Downloading cssselect-1.1.0-py2.py3-none-any.whl (16 kB)\n",
            "Requirement already satisfied: lxml>=2.1 in /usr/local/lib/python3.7/dist-packages (from pyquery->requests-html) (4.2.6)\n",
            "Requirement already satisfied: certifi>=2017.4.17 in /usr/local/lib/python3.7/dist-packages (from requests->requests-html) (2021.5.30)\n",
            "Requirement already satisfied: chardet<4,>=3.0.2 in /usr/local/lib/python3.7/dist-packages (from requests->requests-html) (3.0.4)\n",
            "Collecting urllib3<2.0.0,>=1.25.8\n",
            "  Downloading urllib3-1.25.11-py2.py3-none-any.whl (127 kB)\n",
            "\u001b[K     |████████████████████████████████| 127 kB 78.4 MB/s \n",
            "\u001b[?25hRequirement already satisfied: idna<3,>=2.5 in /usr/local/lib/python3.7/dist-packages (from requests->requests-html) (2.10)\n",
            "Requirement already satisfied: six>=1.4.1 in /usr/local/lib/python3.7/dist-packages (from w3lib->requests-html) (1.15.0)\n",
            "Building wheels for collected packages: fake-useragent, parse\n",
            "  Building wheel for fake-useragent (setup.py) ... \u001b[?25l\u001b[?25hdone\n",
            "  Created wheel for fake-useragent: filename=fake_useragent-0.1.11-py3-none-any.whl size=13502 sha256=13a72f2aaf577085cdf0dbfe967746f8f386ae86b0a3d1e3bedc3b21c70d6ff3\n",
            "  Stored in directory: /root/.cache/pip/wheels/ed/f7/62/50ab6c9a0b5567267ab76a9daa9d06315704209b2c5d032031\n",
            "  Building wheel for parse (setup.py) ... \u001b[?25l\u001b[?25hdone\n",
            "  Created wheel for parse: filename=parse-1.19.0-py3-none-any.whl size=24591 sha256=1bdb5df21bb045b4a3aa639931286cc1a58db6ea96fab24a4bf74dab4126b46f\n",
            "  Stored in directory: /root/.cache/pip/wheels/9c/aa/cc/f2228050ccb40f22144b073f15a2c84f11204f29fc0dce028e\n",
            "Successfully built fake-useragent parse\n",
            "Installing collected packages: websockets, urllib3, pyee, cssselect, w3lib, pyquery, pyppeteer, parse, fake-useragent, requests-html\n",
            "  Attempting uninstall: urllib3\n",
            "    Found existing installation: urllib3 1.24.3\n",
            "    Uninstalling urllib3-1.24.3:\n",
            "      Successfully uninstalled urllib3-1.24.3\n",
            "\u001b[31mERROR: pip's dependency resolver does not currently take into account all the packages that are installed. This behaviour is the source of the following dependency conflicts.\n",
            "datascience 0.10.6 requires folium==0.2.1, but you have folium 0.8.3 which is incompatible.\u001b[0m\n",
            "Successfully installed cssselect-1.1.0 fake-useragent-0.1.11 parse-1.19.0 pyee-8.2.2 pyppeteer-0.2.6 pyquery-1.4.3 requests-html-0.10.0 urllib3-1.25.11 w3lib-1.22.0 websockets-9.1\n",
            "Requirement already satisfied: nest_asyncio in /usr/local/lib/python3.7/dist-packages (1.5.1)\n",
            "Collecting geojson\n",
            "  Downloading geojson-2.5.0-py2.py3-none-any.whl (14 kB)\n",
            "Installing collected packages: geojson\n",
            "Successfully installed geojson-2.5.0\n"
          ]
        }
      ]
    },
    {
      "cell_type": "code",
      "metadata": {
        "id": "4LujJMkd6Xg0"
      },
      "source": [
        "from pyspark.sql import SparkSession\n",
        "spark = SparkSession.builder\\\n",
        "        .master(\"local\")\\\n",
        "        .appName(\"Colab\")\\\n",
        "        .config('spark.ui.port', '4050')\\\n",
        "        .getOrCreate()"
      ],
      "execution_count": null,
      "outputs": []
    },
    {
      "cell_type": "code",
      "metadata": {
        "id": "Ww8-4dtKib5j"
      },
      "source": [
        "spark.conf.set(\"spark.sql.autoBroadcastJoinThreshold\", -1)"
      ],
      "execution_count": null,
      "outputs": []
    },
    {
      "cell_type": "code",
      "metadata": {
        "id": "KsSgvkfL6UJV"
      },
      "source": [
        "import h3\n",
        "import h3pandas\n",
        "import geopandas as gpd\n",
        "import json\n",
        "import pandas as pd   \n",
        "import requests\n",
        "from pyspark.sql.functions import array, avg, col, count, countDistinct, collect_set, desc, dense_rank, \\\n",
        "                                  explode, expr, first, length, lit, log, min as fmin, \\\n",
        "                                  max as fmax, \\\n",
        "                                  regexp_replace, substring, sum as fsum, \\\n",
        "                                  when, udf, rank, row_number, round as fround, floor\n",
        "from pyspark.sql.types import ArrayType, StringType, StructType\n",
        "from shapely.geometry import shape, mapping, Polygon\n",
        "from geopy.geocoders import Nominatim\n",
        "from geopy.extra.rate_limiter import RateLimiter\n",
        "from requests_html import HTMLSession, AsyncHTMLSession\n",
        "from tqdm import tqdm\n",
        "import numpy as np\n",
        "import nest_asyncio\n",
        "import seaborn as sns\n",
        "from pyspark.sql.window import Window\n",
        "import matplotlib.ticker as mtick\n",
        "import matplotlib.pyplot as plt\n",
        "import geojson"
      ],
      "execution_count": null,
      "outputs": []
    },
    {
      "cell_type": "markdown",
      "metadata": {
        "id": "NNCE-DJt6UJW"
      },
      "source": [
        "First we need to get presidential results, you may have seen extremely detailed maps like [this one from the NY Times](https://www.nytimes.com/interactive/2021/upshot/2020-election-map.html) where results are still being collected at the precint level and are missing 11% of votes cast. So currently it seems as if there is not a accessabile (API, .csv, etc) source for precint-level data but I did find awesome work from the [MIT Election Lab](https://electionlab.mit.edu/data) which contains a very nicely formatted set of county-level results from the 2020 election."
      ]
    },
    {
      "cell_type": "code",
      "metadata": {
        "colab": {
          "base_uri": "https://localhost:8080/"
        },
        "id": "gfnvfq6UKqpA",
        "outputId": "37ac189b-5773-4c9e-e666-6eaeca62ff65"
      },
      "source": [
        "from google.colab import drive\n",
        "drive.mount('/content/drive', force_remount=True)"
      ],
      "execution_count": null,
      "outputs": [
        {
          "output_type": "stream",
          "name": "stdout",
          "text": [
            "Mounted at /content/drive\n"
          ]
        }
      ]
    },
    {
      "cell_type": "code",
      "metadata": {
        "id": "J1olp5sa6UJX"
      },
      "source": [
        "df1 = (\n",
        "  spark\n",
        "  .read\n",
        "  .format(\"csv\")\n",
        "  .option('header', True)\n",
        "  .load(\"/content/drive/MyDrive/Hobby DS/cb_wf/countypres_2000_2020.csv\")\n",
        ")"
      ],
      "execution_count": null,
      "outputs": []
    },
    {
      "cell_type": "markdown",
      "metadata": {
        "id": "jkwmBQ9y6UJY"
      },
      "source": [
        "We dropped all other party votes and simply calculated the percent of all two-party votes that were Democratic. I used a random number generator to determine if I would take the % Democratic vs % Republican."
      ]
    },
    {
      "cell_type": "code",
      "metadata": {
        "id": "_s2lRgtp6UJY"
      },
      "source": [
        "part_lean = (\n",
        "    df1\n",
        "    .where(col('party').isin(['DEMOCRAT', 'REPUBLICAN']) & (col('year') == 2020))\n",
        "    .groupby('state', 'county_name', 'county_fips')\n",
        "    .pivot('party')\n",
        "    .agg(first('candidatevotes'))\n",
        "    .withColumn('total_two_pty_votes', col('REPUBLICAN') + col('DEMOCRAT'))\n",
        "    .withColumn('dem_pct', col('DEMOCRAT')/col('total_two_pty_votes'))\n",
        ")"
      ],
      "execution_count": null,
      "outputs": []
    },
    {
      "cell_type": "code",
      "metadata": {
        "colab": {
          "base_uri": "https://localhost:8080/",
          "height": 81
        },
        "id": "8B8ymzGIF6eQ",
        "outputId": "925acdd4-c2ad-4412-e0d0-715ccd982924"
      },
      "source": [
        "(\n",
        "    part_lean\n",
        "    .where(col('county_name') == \"BUNCOMBE\")\n",
        "    .toPandas()\n",
        ")"
      ],
      "execution_count": null,
      "outputs": [
        {
          "output_type": "execute_result",
          "data": {
            "text/html": [
              "<div>\n",
              "<style scoped>\n",
              "    .dataframe tbody tr th:only-of-type {\n",
              "        vertical-align: middle;\n",
              "    }\n",
              "\n",
              "    .dataframe tbody tr th {\n",
              "        vertical-align: top;\n",
              "    }\n",
              "\n",
              "    .dataframe thead th {\n",
              "        text-align: right;\n",
              "    }\n",
              "</style>\n",
              "<table border=\"1\" class=\"dataframe\">\n",
              "  <thead>\n",
              "    <tr style=\"text-align: right;\">\n",
              "      <th></th>\n",
              "      <th>state</th>\n",
              "      <th>county_name</th>\n",
              "      <th>county_fips</th>\n",
              "      <th>DEMOCRAT</th>\n",
              "      <th>REPUBLICAN</th>\n",
              "      <th>total_two_pty_votes</th>\n",
              "      <th>dem_pct</th>\n",
              "    </tr>\n",
              "  </thead>\n",
              "  <tbody>\n",
              "    <tr>\n",
              "      <th>0</th>\n",
              "      <td>NORTH CAROLINA</td>\n",
              "      <td>BUNCOMBE</td>\n",
              "      <td>37021</td>\n",
              "      <td>29257</td>\n",
              "      <td>6159</td>\n",
              "      <td>35416.0</td>\n",
              "      <td>0.826096</td>\n",
              "    </tr>\n",
              "  </tbody>\n",
              "</table>\n",
              "</div>"
            ],
            "text/plain": [
              "            state county_name  ... total_two_pty_votes   dem_pct\n",
              "0  NORTH CAROLINA    BUNCOMBE  ...             35416.0  0.826096\n",
              "\n",
              "[1 rows x 7 columns]"
            ]
          },
          "metadata": {},
          "execution_count": 10
        }
      ]
    },
    {
      "cell_type": "markdown",
      "metadata": {
        "id": "RgYLVbT76UJZ"
      },
      "source": [
        "Now we have county data but how do we geographically represent these counties? Where is Autaga County in Alabama? Luckily [this Wikipedia page](https://en.wikipedia.org/wiki/User:Michael_J/County_table) has county FIPS (standard way to indentify a county) with their centroid (center) coordinates and of course there is a tool to easily get a .csv from it [here](https://wikitable2csv.ggor.de/). No need to scrape with Selenium, Beautiful Soup, or look at the network data of the site if we don't have to!"
      ]
    },
    {
      "cell_type": "code",
      "metadata": {
        "id": "a8YBXE_46UJZ"
      },
      "source": [
        "county_info = spark.read.format(\"csv\").option('header', True).load(\"/content/drive/MyDrive/county_info.csv\")"
      ],
      "execution_count": null,
      "outputs": []
    },
    {
      "cell_type": "code",
      "metadata": {
        "colab": {
          "base_uri": "https://localhost:8080/",
          "height": 132
        },
        "id": "5_2XJnjbEjJd",
        "outputId": "511acaf0-9d8d-4feb-9ceb-10ff82d929d4"
      },
      "source": [
        "(\n",
        "    county_info\n",
        "    .where(col('fips') == 37021)\n",
        "    .toPandas()\n",
        ")"
      ],
      "execution_count": null,
      "outputs": [
        {
          "output_type": "execute_result",
          "data": {
            "text/html": [
              "<div>\n",
              "<style scoped>\n",
              "    .dataframe tbody tr th:only-of-type {\n",
              "        vertical-align: middle;\n",
              "    }\n",
              "\n",
              "    .dataframe tbody tr th {\n",
              "        vertical-align: top;\n",
              "    }\n",
              "\n",
              "    .dataframe thead th {\n",
              "        text-align: right;\n",
              "    }\n",
              "</style>\n",
              "<table border=\"1\" class=\"dataframe\">\n",
              "  <thead>\n",
              "    <tr style=\"text-align: right;\">\n",
              "      <th></th>\n",
              "      <th>Sort [1]</th>\n",
              "      <th>State</th>\n",
              "      <th>FIPS</th>\n",
              "      <th>County [2]</th>\n",
              "      <th>County Seat(s) [3]</th>\n",
              "      <th>Population(2010)</th>\n",
              "      <th>Land Areakm²</th>\n",
              "      <th>Land Areami²</th>\n",
              "      <th>Water Areakm²</th>\n",
              "      <th>Water Areami²</th>\n",
              "      <th>Total Areakm²</th>\n",
              "      <th>Total Areami²</th>\n",
              "      <th>Latitude</th>\n",
              "      <th>Longitude</th>\n",
              "    </tr>\n",
              "  </thead>\n",
              "  <tbody>\n",
              "    <tr>\n",
              "      <th>0</th>\n",
              "      <td>1901</td>\n",
              "      <td>NC</td>\n",
              "      <td>37021</td>\n",
              "      <td>Buncombe</td>\n",
              "      <td>Asheville</td>\n",
              "      <td>238,318</td>\n",
              "      <td>1,700.773</td>\n",
              "      <td>656.672</td>\n",
              "      <td>8.985</td>\n",
              "      <td>3.469</td>\n",
              "      <td>1,709.757</td>\n",
              "      <td>660.141</td>\n",
              "      <td>+35.609371°</td>\n",
              "      <td>–82.530426°</td>\n",
              "    </tr>\n",
              "  </tbody>\n",
              "</table>\n",
              "</div>"
            ],
            "text/plain": [
              "  Sort [1] State   FIPS  ... Total Areami²     Latitude    Longitude\n",
              "0     1901    NC  37021  ...       660.141  +35.609371°  –82.530426°\n",
              "\n",
              "[1 rows x 14 columns]"
            ]
          },
          "metadata": {},
          "execution_count": 44
        }
      ]
    },
    {
      "cell_type": "code",
      "metadata": {
        "id": "WrD-mvQE6UJa"
      },
      "source": [
        "county_coordinates = (\n",
        "    county_info\n",
        "    .select(\n",
        "        'FIPS',\n",
        "        'Latitude',\n",
        "        'Longitude'\n",
        "    )\n",
        "    .withColumn('lat_neg', when(col('Latitude').contains('–'),-1).otherwise(1))\n",
        "    .withColumn('long_neg', when(col('Longitude').contains('–'),-1).otherwise(1))\n",
        "    .withColumn(\n",
        "        'Latitude',\n",
        "        regexp_replace('Latitude', '[–+°]', '')\n",
        "        .astype('float') * col('lat_neg')\n",
        "    )\n",
        "    .withColumn(\n",
        "        'Longitude',\n",
        "        regexp_replace('Longitude', '[–+°]', '')\n",
        "        .astype('float') * col('long_neg')\n",
        "    )\n",
        "    .drop('lat_neg', 'long_neg')\n",
        ")"
      ],
      "execution_count": null,
      "outputs": []
    },
    {
      "cell_type": "code",
      "metadata": {
        "id": "eszr4XO16UJb"
      },
      "source": [
        "county_votes_coordinates = (\n",
        "    part_lean\n",
        "    .join(\n",
        "        county_coordinates,\n",
        "        part_lean['county_fips'] == county_coordinates['FIPS'],\n",
        "        'left'\n",
        "    )\n",
        ")"
      ],
      "execution_count": null,
      "outputs": []
    },
    {
      "cell_type": "code",
      "metadata": {
        "colab": {
          "base_uri": "https://localhost:8080/"
        },
        "id": "-AWKqyNcH3hA",
        "outputId": "ea945f84-55d5-4624-8302-f05969da4dd4"
      },
      "source": [
        "county_votes_coordinates.printSchema()"
      ],
      "execution_count": null,
      "outputs": [
        {
          "output_type": "stream",
          "name": "stdout",
          "text": [
            "root\n",
            " |-- state: string (nullable = true)\n",
            " |-- county_name: string (nullable = true)\n",
            " |-- county_fips: string (nullable = true)\n",
            " |-- DEMOCRAT: string (nullable = true)\n",
            " |-- REPUBLICAN: string (nullable = true)\n",
            " |-- total_two_pty_votes: double (nullable = true)\n",
            " |-- dem_pct: double (nullable = true)\n",
            " |-- FIPS: string (nullable = true)\n",
            " |-- Latitude: float (nullable = true)\n",
            " |-- Longitude: float (nullable = true)\n",
            "\n"
          ]
        }
      ]
    },
    {
      "cell_type": "code",
      "metadata": {
        "colab": {
          "base_uri": "https://localhost:8080/",
          "height": 81
        },
        "id": "AuRluMZcIABy",
        "outputId": "4de447a7-66a6-42f4-9b0b-065c976dc66d"
      },
      "source": [
        "(\n",
        "    county_votes_coordinates\n",
        "    .where(col('FIPS') == 37021)\n",
        "    .toPandas()\n",
        ")"
      ],
      "execution_count": null,
      "outputs": [
        {
          "output_type": "execute_result",
          "data": {
            "text/html": [
              "<div>\n",
              "<style scoped>\n",
              "    .dataframe tbody tr th:only-of-type {\n",
              "        vertical-align: middle;\n",
              "    }\n",
              "\n",
              "    .dataframe tbody tr th {\n",
              "        vertical-align: top;\n",
              "    }\n",
              "\n",
              "    .dataframe thead th {\n",
              "        text-align: right;\n",
              "    }\n",
              "</style>\n",
              "<table border=\"1\" class=\"dataframe\">\n",
              "  <thead>\n",
              "    <tr style=\"text-align: right;\">\n",
              "      <th></th>\n",
              "      <th>state</th>\n",
              "      <th>county_name</th>\n",
              "      <th>county_fips</th>\n",
              "      <th>DEMOCRAT</th>\n",
              "      <th>REPUBLICAN</th>\n",
              "      <th>total_two_pty_votes</th>\n",
              "      <th>dem_pct</th>\n",
              "      <th>FIPS</th>\n",
              "      <th>Latitude</th>\n",
              "      <th>Longitude</th>\n",
              "    </tr>\n",
              "  </thead>\n",
              "  <tbody>\n",
              "    <tr>\n",
              "      <th>0</th>\n",
              "      <td>NORTH CAROLINA</td>\n",
              "      <td>BUNCOMBE</td>\n",
              "      <td>37021</td>\n",
              "      <td>29257</td>\n",
              "      <td>6159</td>\n",
              "      <td>35416.0</td>\n",
              "      <td>0.826096</td>\n",
              "      <td>37021</td>\n",
              "      <td>35.609371</td>\n",
              "      <td>-82.530426</td>\n",
              "    </tr>\n",
              "  </tbody>\n",
              "</table>\n",
              "</div>"
            ],
            "text/plain": [
              "            state county_name county_fips  ...   FIPS   Latitude  Longitude\n",
              "0  NORTH CAROLINA    BUNCOMBE       37021  ...  37021  35.609371 -82.530426\n",
              "\n",
              "[1 rows x 10 columns]"
            ]
          },
          "metadata": {},
          "execution_count": 51
        }
      ]
    },
    {
      "cell_type": "markdown",
      "metadata": {
        "id": "VL88aJ046UJb"
      },
      "source": [
        "Great so we have cleaned and joined the coordinates of the centers of the counties to their election results. In a V2 of this iteration it might be nice to spread out the votes between a larger number of coordinates within the county boundaries, this is because our analysis is assuming that all votes of a county happened in the center of it, it is a nice approximation but obviously not fully representative of where votes actually occur."
      ]
    },
    {
      "cell_type": "code",
      "metadata": {
        "id": "AVQgkrUa6UJc",
        "colab": {
          "base_uri": "https://localhost:8080/"
        },
        "outputId": "077793f7-f3be-4428-87dc-a65386d5dce2"
      },
      "source": [
        "missing_votes = (\n",
        "    county_votes_coordinates\n",
        "    .where(col('Latitude').isNull())\n",
        "    .agg(fsum('total_two_pty_votes'))\n",
        "    .rdd.flatMap(lambda x: x).collect()[0]\n",
        ")\n",
        "\n",
        "total_votes =  (\n",
        "    county_votes_coordinates\n",
        "    .agg(fsum('total_two_pty_votes'))\n",
        "    .rdd.flatMap(lambda x: x).collect()[0]\n",
        ")\n",
        "\n",
        "missing_votes/total_votes"
      ],
      "execution_count": null,
      "outputs": [
        {
          "output_type": "execute_result",
          "data": {
            "text/plain": [
              "0.005826961390169829"
            ]
          },
          "metadata": {},
          "execution_count": 12
        }
      ]
    },
    {
      "cell_type": "markdown",
      "metadata": {
        "id": "goXP2FAE6UJc"
      },
      "source": [
        "Some counties were not associated with coordinates but it only resulted in 0.5% of votes missing, so it isn't a priority at the moment to fix that at the moment."
      ]
    },
    {
      "cell_type": "code",
      "metadata": {
        "id": "XLJkkmBl6UJc",
        "colab": {
          "base_uri": "https://localhost:8080/"
        },
        "outputId": "3f5e6d94-63d1-4574-9a53-4c659ae28683"
      },
      "source": [
        "county_votes_coordinates.count()"
      ],
      "execution_count": null,
      "outputs": [
        {
          "output_type": "execute_result",
          "data": {
            "text/plain": [
              "3155"
            ]
          },
          "metadata": {},
          "execution_count": 13
        }
      ]
    },
    {
      "cell_type": "markdown",
      "metadata": {
        "id": "PzbUvA6w6UJc"
      },
      "source": [
        "US has 10M sq KM. Chose a relevant H3 Hex"
      ]
    },
    {
      "cell_type": "code",
      "metadata": {
        "id": "TUssWZxArtRW"
      },
      "source": [
        "@udf(returnType=StringType())\n",
        "def geo_h3(lat, long, resolution):\n",
        "    if long is not None:\n",
        "        return h3.geo_to_h3(lat, long, resolution)\n"
      ],
      "execution_count": null,
      "outputs": []
    },
    {
      "cell_type": "code",
      "metadata": {
        "id": "OoQY9BZV6UJc"
      },
      "source": [
        "\n",
        "county_h3 = (\n",
        "    county_votes_coordinates\n",
        "    .withColumn('h3_5', geo_h3(col('Latitude'), col('Longitude'), lit(5))) # Biggest resolution where each county is still in its own bucket\n",
        ")"
      ],
      "execution_count": null,
      "outputs": []
    },
    {
      "cell_type": "code",
      "metadata": {
        "id": "16von3i4IYFp"
      },
      "source": [
        "(\n",
        "    county_h3\n",
        "    .select('h3_5', 'dem_pct', 'total_two_pty_votes')\n",
        "    .toPandas()\n",
        "    .to_csv('unsmoothed.csv')\n",
        ")"
      ],
      "execution_count": null,
      "outputs": []
    },
    {
      "cell_type": "markdown",
      "metadata": {
        "id": "-Wd2fqfc6UJd"
      },
      "source": [
        "So what about those hexagon things we were talking about? Well they have what is called a precision, higher values of precision mean smaller hexagons. Just as a rule of thumb I wanted a precision where each county didn't have to share a hex. This resulted in an h3 of 7."
      ]
    },
    {
      "cell_type": "code",
      "metadata": {
        "id": "-awKfUFi6UJe"
      },
      "source": [
        "with open('/content/drive/MyDrive/USA_geo-1.json', 'r') as myfile:\n",
        "    data=myfile.read()\n",
        "\n",
        "# parse file\n",
        "obj = json.loads(data)"
      ],
      "execution_count": null,
      "outputs": []
    },
    {
      "cell_type": "code",
      "metadata": {
        "id": "AnRZUi5F6UJe"
      },
      "source": [
        "def fill_out_geojson_h3(json_obj, precision): \n",
        "    g = [x.buffer(0) for x in shape(json_obj['features'][0]['geometry']).buffer(0).geoms]\n",
        "    hex_list = []\n",
        "    for polygon in g:\n",
        "        # Convert Polygon to GeoJSON dictionary\n",
        "        poly_geojson = gpd.GeoSeries([polygon]).__geo_interface__\n",
        "        # Parse out geometry key from GeoJSON dictionary\n",
        "        poly_geojson = poly_geojson['features'][0]['geometry'] \n",
        "        # Fill the dictionary with Resolution 10 H3 Hexagons\n",
        "        h3_hexes = h3.polyfill(poly_geojson, precision, geo_json_conformant = True)\n",
        "        hex_list = hex_list + list(h3_hexes)\n",
        "    return hex_list"
      ],
      "execution_count": null,
      "outputs": []
    },
    {
      "cell_type": "code",
      "metadata": {
        "id": "DepYh_j76UJf"
      },
      "source": [
        "hex_list = fill_out_geojson_h3(obj, 5)"
      ],
      "execution_count": null,
      "outputs": []
    },
    {
      "cell_type": "code",
      "metadata": {
        "id": "b_mgUBKk6UJf"
      },
      "source": [
        "us_h3 = (\n",
        "    spark.createDataFrame(hex_list, StringType())\n",
        "    .withColumnRenamed('value', 'h3')\n",
        ")"
      ],
      "execution_count": null,
      "outputs": []
    },
    {
      "cell_type": "code",
      "metadata": {
        "id": "XyuuyDox6UJf",
        "colab": {
          "base_uri": "https://localhost:8080/"
        },
        "outputId": "b2fe3931-bf50-4ef7-b390-9758604c4c1c"
      },
      "source": [
        "us_h3.count()"
      ],
      "execution_count": null,
      "outputs": [
        {
          "output_type": "execute_result",
          "data": {
            "text/plain": [
              "37013"
            ]
          },
          "metadata": {},
          "execution_count": 20
        }
      ]
    },
    {
      "cell_type": "markdown",
      "metadata": {
        "id": "OF8mBX7z6UJf"
      },
      "source": [
        "# Get Cracker Barrel and Whole Foods Locations"
      ]
    },
    {
      "cell_type": "markdown",
      "metadata": {
        "id": "3jTvdj7X6UJh"
      },
      "source": [
        "## Whole Foods"
      ]
    },
    {
      "cell_type": "code",
      "metadata": {
        "id": "aTho77uO6UJh",
        "colab": {
          "base_uri": "https://localhost:8080/",
          "height": 170
        },
        "outputId": "ef4bb6ec-6677-4caa-8917-fcfb6462c64b"
      },
      "source": [
        "hex_list_3 = fill_out_geojson_h3(obj, 3)"
      ],
      "execution_count": null,
      "outputs": [
        {
          "output_type": "error",
          "ename": "NameError",
          "evalue": "ignored",
          "traceback": [
            "\u001b[0;31m---------------------------------------------------------------------------\u001b[0m",
            "\u001b[0;31mNameError\u001b[0m                                 Traceback (most recent call last)",
            "\u001b[0;32m<ipython-input-15-73861dac95dd>\u001b[0m in \u001b[0;36m<module>\u001b[0;34m()\u001b[0m\n\u001b[0;32m----> 1\u001b[0;31m \u001b[0mhex_list_3\u001b[0m \u001b[0;34m=\u001b[0m \u001b[0mfill_out_geojson_h3\u001b[0m\u001b[0;34m(\u001b[0m\u001b[0mobj\u001b[0m\u001b[0;34m,\u001b[0m \u001b[0;36m3\u001b[0m\u001b[0;34m)\u001b[0m\u001b[0;34m\u001b[0m\u001b[0;34m\u001b[0m\u001b[0m\n\u001b[0m",
            "\u001b[0;31mNameError\u001b[0m: name 'fill_out_geojson_h3' is not defined"
          ]
        }
      ]
    },
    {
      "cell_type": "code",
      "metadata": {
        "id": "bdHzjttF6UJi",
        "colab": {
          "base_uri": "https://localhost:8080/",
          "height": 170
        },
        "outputId": "64d314ef-cfc2-45c7-fbf4-f99f52077e9f"
      },
      "source": [
        "len(hex_list_3)"
      ],
      "execution_count": null,
      "outputs": [
        {
          "output_type": "error",
          "ename": "NameError",
          "evalue": "ignored",
          "traceback": [
            "\u001b[0;31m---------------------------------------------------------------------------\u001b[0m",
            "\u001b[0;31mNameError\u001b[0m                                 Traceback (most recent call last)",
            "\u001b[0;32m<ipython-input-16-c19751db1095>\u001b[0m in \u001b[0;36m<module>\u001b[0;34m()\u001b[0m\n\u001b[0;32m----> 1\u001b[0;31m \u001b[0mlen\u001b[0m\u001b[0;34m(\u001b[0m\u001b[0mhex_list_3\u001b[0m\u001b[0;34m)\u001b[0m\u001b[0;34m\u001b[0m\u001b[0;34m\u001b[0m\u001b[0m\n\u001b[0m",
            "\u001b[0;31mNameError\u001b[0m: name 'hex_list_3' is not defined"
          ]
        }
      ]
    },
    {
      "cell_type": "code",
      "metadata": {
        "id": "hWc9aCz-6UJi"
      },
      "source": [
        "h3_3_coordinates = []\n",
        "for hexagon in hex_list_3:\n",
        "    h3_3_coordinates.append(list(h3.h3_to_geo(hexagon)))"
      ],
      "execution_count": null,
      "outputs": []
    },
    {
      "cell_type": "code",
      "metadata": {
        "id": "K_nIYhGTi0fV"
      },
      "source": [
        "get_tomtom_locations(geo_json, h3_precision)"
      ],
      "execution_count": null,
      "outputs": []
    },
    {
      "cell_type": "code",
      "metadata": {
        "id": "Rpe6gVWb6UJi"
      },
      "source": [
        "wf_locations = []\n",
        "for location in tqdm(h3_3_coordinates):\n",
        "    resp = requests.get(\n",
        "        'https://api.tomtom.com/search/2/search/whole%20foods%20market.json?'\n",
        "        f'typeahead=false&limit=100&lat={location[0]}&lon={location[1]}&radius=10000000&key=luoXzrbCbutnxhLjGnSGC1AHCCnZvzDl'\n",
        "    )\n",
        "    data = json.loads(resp.text)\n",
        "    for result in data['results']:\n",
        "        name = result['poi']['name']\n",
        "        location = result['position']\n",
        "        wf_locations.append([name, location['lat'], location['lon']])"
      ],
      "execution_count": null,
      "outputs": []
    },
    {
      "cell_type": "code",
      "metadata": {
        "id": "y2KIQzmOQzJZ"
      },
      "source": [
        "wf_locations = spark.createDataFrame(wf_locations).toDF(*['name', 'lat', 'lon'])"
      ],
      "execution_count": null,
      "outputs": []
    },
    {
      "cell_type": "code",
      "metadata": {
        "id": "SSt4v2DnS6IJ"
      },
      "source": [
        "actual_wf = (\n",
        "    wf_locations\n",
        "    .where(col('name') == 'Whole Foods Market')\n",
        "    .dropDuplicates()\n",
        ")"
      ],
      "execution_count": null,
      "outputs": []
    },
    {
      "cell_type": "code",
      "metadata": {
        "id": "_Zubh5imTGVF"
      },
      "source": [
        "actual_wf.count()"
      ],
      "execution_count": null,
      "outputs": []
    },
    {
      "cell_type": "code",
      "metadata": {
        "id": "aE2A4vUOZF6p"
      },
      "source": [
        "actual_wf.toPandas().head()"
      ],
      "execution_count": null,
      "outputs": []
    },
    {
      "cell_type": "code",
      "metadata": {
        "id": "d7Vydp4Kss8H"
      },
      "source": [
        "actual_wf_h3 = (\n",
        "    actual_wf\n",
        "    .withColumn(\n",
        "        'h3',\n",
        "        geo_h3(actual_wf['lat'], actual_wf['lon'], lit(5))\n",
        "    )\n",
        "    .toDF(*['name', 'wf_lat', 'wf_lon', 'h3_5'])\n",
        ")"
      ],
      "execution_count": null,
      "outputs": []
    },
    {
      "cell_type": "code",
      "metadata": {
        "colab": {
          "base_uri": "https://localhost:8080/",
          "height": 170
        },
        "id": "fjuUqFniX5tf",
        "outputId": "5c459ce6-003f-4c59-f5ff-188bdcccba46"
      },
      "source": [
        "actual_wf_h3.write.mode('overwrite').parquet('/content/drive/MyDrive/wf_cb_locations/wf_parquet')"
      ],
      "execution_count": null,
      "outputs": [
        {
          "output_type": "error",
          "ename": "NameError",
          "evalue": "ignored",
          "traceback": [
            "\u001b[0;31m---------------------------------------------------------------------------\u001b[0m",
            "\u001b[0;31mNameError\u001b[0m                                 Traceback (most recent call last)",
            "\u001b[0;32m<ipython-input-22-dee5826a8cce>\u001b[0m in \u001b[0;36m<module>\u001b[0;34m()\u001b[0m\n\u001b[0;32m----> 1\u001b[0;31m \u001b[0mactual_wf_h3\u001b[0m\u001b[0;34m.\u001b[0m\u001b[0mwrite\u001b[0m\u001b[0;34m.\u001b[0m\u001b[0mmode\u001b[0m\u001b[0;34m(\u001b[0m\u001b[0;34m'overwrite'\u001b[0m\u001b[0;34m)\u001b[0m\u001b[0;34m.\u001b[0m\u001b[0mparquet\u001b[0m\u001b[0;34m(\u001b[0m\u001b[0;34m'/content/drive/MyDrive/wf_cb_locations/wf_parquet'\u001b[0m\u001b[0;34m)\u001b[0m\u001b[0;34m\u001b[0m\u001b[0;34m\u001b[0m\u001b[0m\n\u001b[0m",
            "\u001b[0;31mNameError\u001b[0m: name 'actual_wf_h3' is not defined"
          ]
        }
      ]
    },
    {
      "cell_type": "markdown",
      "metadata": {
        "id": "HoOJACZoUJOa"
      },
      "source": [
        "## Cracker Barrel"
      ]
    },
    {
      "cell_type": "code",
      "metadata": {
        "id": "uzj7LgX66UJi"
      },
      "source": [
        "cb_locations = [] # Empty list to f\n",
        "for location in tqdm(h3_3_coordinates):\n",
        "    resp = requests.get(\n",
        "        'https://api.tomtom.com/search/2/search/cracker%20barrel%20old%20country%20store.json?'\n",
        "        f'typeahead=false&limit=100&lat={location[0]}&lon={location[1]}&radius=10000000&key=luoXzrbCbutnxhLjGnSGC1AHCCnZvzDl'\n",
        "    )\n",
        "    data = json.loads(resp.text)\n",
        "    for result in data['results']:\n",
        "        name = result['poi']['name']\n",
        "        location = result['position']\n",
        "        cb_locations.append([name, location['lat'], location['lon']])"
      ],
      "execution_count": null,
      "outputs": []
    },
    {
      "cell_type": "code",
      "metadata": {
        "id": "Wp1wHlZfa5oe"
      },
      "source": [
        "cb_locations = spark.createDataFrame(cb_locations).toDF(*['name', 'lat', 'lon'])"
      ],
      "execution_count": null,
      "outputs": []
    },
    {
      "cell_type": "code",
      "metadata": {
        "id": "UD3TnbhAbCQg"
      },
      "source": [
        "actual_cb = (\n",
        "    cb_locations\n",
        "    .where(col('name') == 'Cracker Barrel Old Country Store')\n",
        "    .dropDuplicates()\n",
        ")"
      ],
      "execution_count": null,
      "outputs": []
    },
    {
      "cell_type": "code",
      "metadata": {
        "id": "B2KAC-5wrRsS"
      },
      "source": [
        "actual_cb_h3 = (\n",
        "    actual_cb\n",
        "    .withColumn(\n",
        "        'h3',\n",
        "        geo_h3(actual_cb['lat'], actual_cb['lon'], lit(5))\n",
        "    )\n",
        "    .toDF(*['name', 'cb_lat', 'cb_lon', 'h3_5'])\n",
        ")"
      ],
      "execution_count": null,
      "outputs": []
    },
    {
      "cell_type": "code",
      "metadata": {
        "id": "DOPC-GeadD2p"
      },
      "source": [
        "actual_cb_h3.write.mode('overwrite').parquet('/content/drive/MyDrive/wf_cb_locations/cb_parquet')"
      ],
      "execution_count": null,
      "outputs": []
    },
    {
      "cell_type": "markdown",
      "metadata": {
        "id": "JoD84KoRdODp"
      },
      "source": [
        "# Putting it all together"
      ]
    },
    {
      "cell_type": "code",
      "metadata": {
        "id": "uuynt6Yyes44"
      },
      "source": [
        "wf = (\n",
        "    spark.read.parquet('/content/drive/MyDrive/Hobby DS/wf_cb_locations/wf_parquet')\n",
        ")\n",
        "\n",
        "wf = (\n",
        "    wf\n",
        "    .withColumn(\n",
        "        'h3_wf',\n",
        "        geo_h3(wf['wf_lat'], wf['wf_lon'], lit(5))\n",
        "    )\n",
        ")\n",
        "\n",
        "cb = (\n",
        "    spark.read.parquet('/content/drive/MyDrive/Hobby DS/wf_cb_locations/cb_parquet')\n",
        ")\n",
        "\n",
        "cb = (\n",
        "    cb\n",
        "    .withColumn(\n",
        "        'h3_cb',\n",
        "        geo_h3(cb['cb_lat'], cb['cb_lon'], lit(5))\n",
        "    )\n",
        ")"
      ],
      "execution_count": null,
      "outputs": []
    },
    {
      "cell_type": "code",
      "metadata": {
        "id": "OSTt2_46iiJr"
      },
      "source": [
        "from math import radians, cos, sin, asin, sqrt, atan2, pi\n",
        "from pyspark.sql.types import FloatType\n",
        "\n",
        "@udf(returnType=FloatType())\n",
        "def haversine_distance(lat1, lon1, lat2, lon2):\n",
        "\n",
        "    \"\"\"\n",
        "    Calculate the great circle distance between two points \n",
        "    on the earth (specified in decimal degrees)\n",
        "    \"\"\"\n",
        "    try:\n",
        "        deg2rad = pi/180.0\n",
        "\n",
        "        # convert decimal degrees to radians \n",
        "        lon1, lat1, lon2, lat2 = map(radians, [lon1, lat1, lon2, lat2])\n",
        "\n",
        "        # haversine formula \n",
        "        dlon = (lon2 - lon1) \n",
        "        dlat = (lat2 - lat1) \n",
        "\n",
        "        a = sin(dlat/2.0)**2.0 + cos(lat1) * cos(lat2) * sin(dlon/2.0)**2.0\n",
        "        c = 2.0 * asin(sqrt(a))\n",
        "\n",
        "        #c = 2.0 * atan2(sqrt(a), sqrt(1.0-a))\n",
        "\n",
        "        r = 6372.8 # Radius of earth in kilometers. Use 3956 for miles #No rounding R = 3959.87433 (miles), 6372.8(km)\n",
        "\n",
        "        value = c*r\n",
        "    except:\n",
        "        value = None\n",
        "\n",
        "    return value"
      ],
      "execution_count": null,
      "outputs": []
    },
    {
      "cell_type": "code",
      "metadata": {
        "id": "6DiM7tFP6UJj"
      },
      "source": [
        "@udf(returnType = ArrayType(StringType()))\n",
        "def h3_kring(h3_hex, k):\n",
        "    if h3_hex is not None:\n",
        "        return list(h3.k_ring(h3_hex, k)) + list(h3_hex)"
      ],
      "execution_count": null,
      "outputs": []
    },
    {
      "cell_type": "code",
      "metadata": {
        "id": "nU1_ZFYbg2Zi"
      },
      "source": [
        "@udf(returnType = ArrayType(StringType()))\n",
        "def h3_to_geo(h3_hex):\n",
        "    if h3_hex is not None:\n",
        "        return list(h3.h3_to_geo(h3_hex))"
      ],
      "execution_count": null,
      "outputs": []
    },
    {
      "cell_type": "code",
      "metadata": {
        "id": "zz6trAL36UJj"
      },
      "source": [
        "us48_kring = (\n",
        "    us_h3\n",
        "    .where(\n",
        "        h3_to_geo(col('h3')).getItem(0).astype('float').between(24,50) # Continental US\n",
        "    )\n",
        "    .withColumn('h3_neighbors',h3_kring(col('h3'),lit(10)))\n",
        ")"
      ],
      "execution_count": null,
      "outputs": []
    },
    {
      "cell_type": "code",
      "metadata": {
        "id": "iG09mruV6UJj"
      },
      "source": [
        "us48_neighbors = (\n",
        "    us48_kring\n",
        "    .withColumn('h3_neighbors', explode('h3_neighbors'))\n",
        ")"
      ],
      "execution_count": null,
      "outputs": []
    },
    {
      "cell_type": "code",
      "metadata": {
        "id": "csmDN3nJ6UJk"
      },
      "source": [
        "full_data = (\n",
        "    us48_neighbors\n",
        "    .join(\n",
        "        county_h3,\n",
        "        us48_neighbors['h3_neighbors'] == county_h3['h3_5'],\n",
        "        'left'\n",
        "    )\n",
        "    .join(\n",
        "        wf,\n",
        "        us48_neighbors['h3_neighbors'] == wf['h3_wf'],\n",
        "        'left'\n",
        "    )\n",
        "    .join(\n",
        "        cb,\n",
        "        us48_neighbors['h3_neighbors'] == cb['h3_cb'],\n",
        "        'left'\n",
        "    )\n",
        "    .withColumn(\n",
        "        'h3_lat',\n",
        "        h3_to_geo(col('h3')).getItem(0).astype('float')\n",
        "    )\n",
        "    .withColumn(\n",
        "        'h3_lon',\n",
        "        h3_to_geo(col('h3')).getItem(1).astype('float')\n",
        "    )\n",
        ")\n",
        "\n",
        "w = (\n",
        "    Window\n",
        "    .partitionBy('h3')\n",
        "    .orderBy('vote_haversine')\n",
        ")\n",
        "\n",
        "full_distance = (\n",
        "    full_data\n",
        "    .withColumn(\n",
        "        'wf_haversine',\n",
        "        haversine_distance(\n",
        "            full_data['wf_lat'],\n",
        "            full_data['wf_lon'],\n",
        "            full_data['h3_lat'],\n",
        "            full_data['h3_lon']\n",
        "        )\n",
        "    )\n",
        "    .withColumn(\n",
        "        'cb_haversine',\n",
        "        haversine_distance(\n",
        "            full_data['cb_lat'],\n",
        "            full_data['cb_lon'],\n",
        "            full_data['h3_lat'],\n",
        "            full_data['h3_lon']\n",
        "        )\n",
        "    )\n",
        "    .withColumn(\n",
        "        'vote_haversine',\n",
        "        haversine_distance(\n",
        "            full_data['Latitude'],\n",
        "            full_data['Longitude'],\n",
        "            full_data['h3_lat'],\n",
        "            full_data['h3_lon']\n",
        "        )\n",
        "    )\n",
        "    .fillna(1*10**8, subset=['vote_haversine'])\n",
        "    .withColumn(\n",
        "        'vote_rank',\n",
        "        dense_rank().over(w)\n",
        "    )\n",
        "    .withColumn(\n",
        "        'weighted_dem',\n",
        "        when(\n",
        "            col('vote_rank') <= 3, # O\n",
        "            col('DEMOCRAT') / col('vote_haversine') ** 2\n",
        "        ).otherwise(0)\n",
        "    )\n",
        "    .withColumn(\n",
        "        'weighted_rep',\n",
        "        when(\n",
        "            col('vote_rank') <= 3,\n",
        "            col('REPUBLICAN') / col('vote_haversine') ** 2\n",
        "        ).otherwise(0)\n",
        "    )\n",
        ")"
      ],
      "execution_count": null,
      "outputs": []
    },
    {
      "cell_type": "code",
      "metadata": {
        "id": "kzT_WLZ4MPps"
      },
      "source": [
        "dem_pct = (\n",
        "    full_distance\n",
        "    .where(\n",
        "        (col('vote_rank') <= 3)\n",
        "    )\n",
        "    .select('h3', 'weighted_dem', 'weighted_rep')\n",
        "    .groupBy('h3')\n",
        "    .agg(\n",
        "        (fsum('weighted_dem') /(fsum('weighted_dem') + fsum('weighted_rep'))).alias('dem_pct')\n",
        "    )\n",
        ")"
      ],
      "execution_count": null,
      "outputs": []
    },
    {
      "cell_type": "code",
      "metadata": {
        "colab": {
          "base_uri": "https://localhost:8080/"
        },
        "id": "MhZRGwXaj9fK",
        "outputId": "7cf2acc7-2d56-40ce-f968-b9abfd6b4523"
      },
      "source": [
        "dem_pct.where(col('h3') == '8544d993fffffff').show()"
      ],
      "execution_count": null,
      "outputs": [
        {
          "output_type": "stream",
          "name": "stdout",
          "text": [
            "+---------------+-----------------+\n",
            "|             h3|          dem_pct|\n",
            "+---------------+-----------------+\n",
            "|8544d993fffffff|0.813733065124193|\n",
            "+---------------+-----------------+\n",
            "\n"
          ]
        }
      ]
    },
    {
      "cell_type": "code",
      "metadata": {
        "id": "f-nU1Xw6fIlP"
      },
      "source": [
        " h3_lean = (\n",
        "    full_distance\n",
        "    .groupBy('h3')\n",
        "    .agg(\n",
        "        fmin('wf_haversine').alias('wf'),\n",
        "        fmin('cb_haversine').alias('cb')\n",
        "    )\n",
        "    .join(dem_pct, 'h3')\n",
        " )"
      ],
      "execution_count": null,
      "outputs": []
    },
    {
      "cell_type": "code",
      "metadata": {
        "colab": {
          "base_uri": "https://localhost:8080/"
        },
        "id": "0_QIhCMk8EkN",
        "outputId": "41051212-bd5c-4c35-abc3-10b7d708d4ab"
      },
      "source": [
        "h3_lean.where(col('h3') == '8544d993fffffff').show()"
      ],
      "execution_count": null,
      "outputs": [
        {
          "output_type": "stream",
          "name": "stdout",
          "text": [
            "+---------------+--------+---------+-----------------+\n",
            "|             h3|      wf|       cb|          dem_pct|\n",
            "+---------------+--------+---------+-----------------+\n",
            "|8544d993fffffff|14.76668|7.0554066|0.813733065124193|\n",
            "+---------------+--------+---------+-----------------+\n",
            "\n"
          ]
        }
      ]
    },
    {
      "cell_type": "code",
      "metadata": {
        "id": "1CzHuz6voYPb"
      },
      "source": [
        " h3_lean.write.mode('overwrite').parquet('/content/drive/MyDrive/wf_cb_locations/final_results') "
      ],
      "execution_count": null,
      "outputs": []
    },
    {
      "cell_type": "code",
      "metadata": {
        "id": "34edtcQTl1DR"
      },
      "source": [
        "h3_lean = spark.read.parquet('/content/drive/MyDrive/wf_cb_locations/final_results')"
      ],
      "execution_count": null,
      "outputs": []
    },
    {
      "cell_type": "code",
      "metadata": {
        "colab": {
          "base_uri": "https://localhost:8080/"
        },
        "id": "JLPLP4kGLx0H",
        "outputId": "2f0b5680-ab93-4832-d5b4-c4955a0a95ad"
      },
      "source": [
        "h3_lean.where(col('h3') == '8544d993fffffff').show()"
      ],
      "execution_count": null,
      "outputs": [
        {
          "output_type": "stream",
          "name": "stdout",
          "text": [
            "+---------------+--------+---------+-----------------+\n",
            "|             h3|      wf|       cb|          dem_pct|\n",
            "+---------------+--------+---------+-----------------+\n",
            "|8544d993fffffff|14.76668|7.0554066|0.813733065124193|\n",
            "+---------------+--------+---------+-----------------+\n",
            "\n"
          ]
        }
      ]
    },
    {
      "cell_type": "code",
      "metadata": {
        "id": "H2og_ErBf3_m"
      },
      "source": [
        "map_viz = (\n",
        "    h3_lean\n",
        "    .select(\n",
        "        'h3', \n",
        "        col('dem_pct').alias('Democratic Vote Percentage'),\n",
        "        col('wf').alias('Whole Foods Distance (mi)'),\n",
        "        col('cb').alias('Cracker Barrel Distance (mi)')\n",
        "    )\n",
        "    .toPandas()\n",
        ")"
      ],
      "execution_count": null,
      "outputs": []
    },
    {
      "cell_type": "code",
      "metadata": {
        "id": "8SkCsAHLttcQ"
      },
      "source": [
        "max_dist = max(\n",
        "    h3_lean.select('wf').toPandas()['wf'].max(),\n",
        "    h3_lean.select('cb').toPandas()['cb'].max()\n",
        ")"
      ],
      "execution_count": null,
      "outputs": []
    },
    {
      "cell_type": "code",
      "metadata": {
        "id": "oF9SYx2yC4hE"
      },
      "source": [
        "h3_lean = h3_lean.fillna(max_dist, subset=['wf', 'cb'])"
      ],
      "execution_count": null,
      "outputs": []
    },
    {
      "cell_type": "code",
      "metadata": {
        "id": "UmhdiMO0KQEp"
      },
      "source": [
        "from pyspark.sql.functions import expr\n",
        "unpivotExpr = \"stack(2, 'Whole Foods', wf, 'Cracker Barrel', cb) as (Store,distance)\"\n",
        "h3_lean_viz = (\n",
        "    h3_lean\n",
        "    .select(\n",
        "        \"h3\", \n",
        "        'dem_pct',\n",
        "        expr(unpivotExpr)\n",
        "    )\n",
        ")\n"
      ],
      "execution_count": null,
      "outputs": []
    },
    {
      "cell_type": "code",
      "metadata": {
        "id": "F2L7aWliLVU4"
      },
      "source": [
        "w =  (\n",
        "    Window\n",
        "    .partitionBy('store')\n",
        "    .orderBy('distance')\n",
        "    .rangeBetween(-15, 15)\n",
        ")\n",
        "\n",
        "h3_lean_viz_smoothed = (\n",
        "    h3_lean_viz\n",
        "    .withColumn('dem_pct_smoothed', avg('dem_pct').over(w))\n",
        "    .withColumn('pct_counties_democratic', avg(fround('dem_pct', 0)).over(w))\n",
        "    .toPandas()\n",
        ")"
      ],
      "execution_count": null,
      "outputs": []
    },
    {
      "cell_type": "code",
      "metadata": {
        "colab": {
          "base_uri": "https://localhost:8080/"
        },
        "id": "YR86dJsflB8-",
        "outputId": "ca6ab189-fabe-49b3-e8e3-aa37343a73ce"
      },
      "source": [
        "!pip install Image"
      ],
      "execution_count": null,
      "outputs": [
        {
          "output_type": "stream",
          "name": "stdout",
          "text": [
            "Collecting Image\n",
            "  Downloading image-1.5.33.tar.gz (15 kB)\n",
            "Requirement already satisfied: pillow in /usr/local/lib/python3.7/dist-packages (from Image) (7.1.2)\n",
            "Collecting django\n",
            "  Downloading Django-3.2.7-py3-none-any.whl (7.9 MB)\n",
            "\u001b[K     |████████████████████████████████| 7.9 MB 4.1 MB/s \n",
            "\u001b[?25hRequirement already satisfied: six in /usr/local/lib/python3.7/dist-packages (from Image) (1.15.0)\n",
            "Requirement already satisfied: sqlparse>=0.2.2 in /usr/local/lib/python3.7/dist-packages (from django->Image) (0.4.1)\n",
            "Requirement already satisfied: pytz in /usr/local/lib/python3.7/dist-packages (from django->Image) (2018.9)\n",
            "Collecting asgiref<4,>=3.3.2\n",
            "  Downloading asgiref-3.4.1-py3-none-any.whl (25 kB)\n",
            "Requirement already satisfied: typing-extensions in /usr/local/lib/python3.7/dist-packages (from asgiref<4,>=3.3.2->django->Image) (3.7.4.3)\n",
            "Building wheels for collected packages: Image\n",
            "  Building wheel for Image (setup.py) ... \u001b[?25l\u001b[?25hdone\n",
            "  Created wheel for Image: filename=image-1.5.33-py2.py3-none-any.whl size=19494 sha256=152a399eb314ba216af76d803daef508b3e5287c4beb4b08658fbff069a1ce0b\n",
            "  Stored in directory: /root/.cache/pip/wheels/56/88/e6/897194cfe8c08a8b9afd881d3bf53d102e13fa39607d721383\n",
            "Successfully built Image\n",
            "Installing collected packages: asgiref, django, Image\n",
            "Successfully installed Image-1.5.33 asgiref-3.4.1 django-3.2.7\n"
          ]
        }
      ]
    },
    {
      "cell_type": "code",
      "metadata": {
        "id": "ID4nbAMc2qXM",
        "colab": {
          "base_uri": "https://localhost:8080/",
          "height": 511
        },
        "outputId": "0e3c7160-d61a-4456-f035-532a21fd2e2e"
      },
      "source": [
        "import matplotlib.image as image\n",
        "from matplotlib.offsetbox import OffsetImage, AnnotationBbox\n",
        "plt.clf()\n",
        "plt.close()\n",
        "sns.set_style('darkgrid')\n",
        "\n",
        "\n",
        "# Wanted palette details\n",
        "enmax_palette = ['#00674B', '#551505']\n",
        "\n",
        "g = sns.lineplot(\n",
        "    x='distance',\n",
        "    y='pct_counties_democratic',\n",
        "    hue='Store',\n",
        "    data=h3_lean_viz_smoothed,\n",
        "    palette=enmax_palette,\n",
        "    dashes=[(2,4)],\n",
        "    style=True\n",
        ")\n",
        "\n",
        "\n",
        "g = sns.lineplot(\n",
        "    x='distance',\n",
        "    y='dem_pct_smoothed',\n",
        "    hue='Store',\n",
        "    data=h3_lean_viz_smoothed,\n",
        "    palette=enmax_palette\n",
        ")\n",
        "\n",
        "g.set(\n",
        "    xlabel = 'Neighborhood Distance (mi) from Store (Smoothed over +/- 10 miles)',\n",
        "    title='Estimated Democratic Majority & Vote % Based on\\nDistance from Whole Foods & Cracker Barrel',\n",
        "    ylabel=''\n",
        ")\n",
        "\n",
        "g.legend([],[], frameon=False)\n",
        "\n",
        "g.set(xlim=(0,150))\n",
        "g.yaxis.set_major_formatter(mtick.PercentFormatter())\n",
        "vals = g.get_yticks()\n",
        "g.set_yticklabels(['{:,.0%}'.format(x) for x in vals])\n",
        "\n",
        "logo =image.imread('/content/drive/MyDrive/Hobby DS/cb_wf_assets/wf.png')\n",
        "imagebox = OffsetImage(logo, zoom=0.07)\n",
        "ab = AnnotationBbox(imagebox, (65, 0.7), frameon = False)\n",
        "g.add_artist(ab)\n",
        "\n",
        "logo_cb =image.imread('/content/drive/MyDrive/Hobby DS/cb_wf_assets/cb.png')\n",
        "imagebox = OffsetImage(logo_cb, zoom=0.045)\n",
        "cb = AnnotationBbox(imagebox, (26, 0.20), frameon = False)\n",
        "g.add_artist(cb)\n",
        "\n",
        "neigh = 'Dem Majority'\n",
        "pct_dem = \"Dem Vote %\"\n",
        "\n",
        "text_list = [\n",
        "    [neigh, 15, 0.812, 310, enmax_palette[0]],\n",
        "    [neigh, 70, 0.25, 355, enmax_palette[1]],\n",
        "    [pct_dem, 5, 0.63, 345, enmax_palette[0]],\n",
        "    [pct_dem, 5, 0.50, 350, enmax_palette[1]]\n",
        "]\n",
        "\n",
        "for legend in text_list:\n",
        "    g.text(\n",
        "        legend[1],\n",
        "        legend[2],\n",
        "        legend[0],\n",
        "        color=legend[4],\n",
        "        fontweight=\"bold\",\n",
        "        fontsize=8,\n",
        "        rotation=legend[3],\n",
        "        horizontalalignment=\"left\",\n",
        "        verticalalignment=\"center_baseline\"\n",
        "    )\n",
        "\n",
        "g.axhline(.5, alpha=.25, color='black')\n",
        "\n",
        "# fig = g.get_figure()\n",
        "# fig.savefig('wf_cb.png', dpi=500, bbox_inches = \"tight\")"
      ],
      "execution_count": null,
      "outputs": [
        {
          "output_type": "execute_result",
          "data": {
            "text/plain": [
              "<matplotlib.lines.Line2D at 0x7fc98d2656d0>"
            ]
          },
          "metadata": {},
          "execution_count": 177
        },
        {
          "output_type": "display_data",
          "data": {
            "image/png": "[encoded data removed]",
            "text/plain": [
              "<Figure size 640x480 with 1 Axes>"
            ]
          },
          "metadata": {}
        }
      ]
    },
    {
      "cell_type": "code",
      "metadata": {
        "id": "ObkQIFNvS4NJ"
      },
      "source": [
        "heatmap = (\n",
        "    h3_lean\n",
        "    .fillna(max_dist, subset=['wf', 'cb'])\n",
        "    .withColumn(\n",
        "        'wf',\n",
        "        when(col('wf') >= 150, 150)\n",
        "        .otherwise(col('wf'))\n",
        "    )\n",
        "    .withColumn(\n",
        "        'cb',\n",
        "        when(col('cb') >= 150, 150)\n",
        "        .otherwise(col('cb'))\n",
        "    )\n",
        "    .withColumn('wf_group', (fround(col('wf')/25)*25).astype('int'))\n",
        "    .withColumn('cb_group', (fround(col('cb')/25)*25).astype('int'))\n",
        ")\n",
        "\n",
        "lean_heatmap= (\n",
        "    heatmap\n",
        "    .groupBy('wf_group')\n",
        "    .pivot('cb_group')\n",
        "    .agg(\n",
        "        avg('dem_pct').alias('dem_pct')\n",
        "    )\n",
        "    .toPandas()\n",
        "    .set_index('wf_group')\n",
        "    .sort_index()\n",
        ")\n",
        "\n",
        "vote_heatmap = (\n",
        "    heatmap\n",
        "    .groupBy('wf_group')\n",
        "    .pivot('cb_group')\n",
        "    .agg(\n",
        "        avg(fround('dem_pct',0)).alias('dem_pct')\n",
        "    )\n",
        "    .toPandas()\n",
        "    .set_index('wf_group')\n",
        "    .sort_index()\n",
        ")"
      ],
      "execution_count": null,
      "outputs": []
    },
    {
      "cell_type": "code",
      "metadata": {
        "id": "6uS9id7EsDvg"
      },
      "source": [
        "lean_np = lean_heatmap.to_numpy()\n",
        "lean_min = lean_np.min()\n",
        "lean_max = lean_np.max()\n",
        "\n",
        "vote_np = vote_heatmap.to_numpy()\n",
        "vote_min = vote_np.min()\n",
        "vote_max = vote_np.max()"
      ],
      "execution_count": null,
      "outputs": []
    },
    {
      "cell_type": "code",
      "metadata": {
        "id": "FXip_dUuoo0e",
        "colab": {
          "base_uri": "https://localhost:8080/",
          "height": 750
        },
        "outputId": "948ca4fe-b65f-41ba-ab79-d6c60acc7fdc"
      },
      "source": [
        "from matplotlib.ticker import PercentFormatter\n",
        "from matplotlib.ticker import MaxNLocator\n",
        "import matplotlib as mpl\n",
        "mpl.rcParams.update(mpl.rcParamsDefault)\n",
        "\n",
        "sns.set_style('darkgrid')\n",
        "\n",
        "\n",
        "plt.clf()\n",
        "fig, axes = plt.subplots(2,1, figsize=(1.9*4,1*4*2))\n",
        "fig.subplots_adjust(hspace=0.45)\n",
        "g = sns.heatmap(\n",
        "    vote_heatmap,\n",
        "    cmap ='RdBu',\n",
        "    vmin=vote_min,\n",
        "    center=0.5,\n",
        "    vmax=vote_max,\n",
        "    # cbar_kws={'label': '% Neighborhoods w/ Democratic Majority'},\n",
        "    ax = axes[0]\n",
        ")\n",
        "\n",
        "g = sns.heatmap(\n",
        "    lean_heatmap,\n",
        "    cmap ='RdBu',\n",
        "    vmin=lean_min,\n",
        "    center=0.5,\n",
        "    vmax=lean_max,\n",
        "    # cbar_kws={'label': '% Neighborhoods w/ Democratic Majority'},\n",
        "    ax = axes[1]\n",
        ")\n",
        "\n",
        "axes[0].set(\n",
        "    xlabel = 'Distance (mi) from Cracker Barrel',\n",
        "    ylabel = \"Distance (mi) from Whole Foods\",\n",
        "    title='Percent of Neighborhoods that are Democratic Based on\\nDistance from Whole Foods & Cracker Barrel'\n",
        ")\n",
        "axes[1].set(\n",
        "    xlabel = 'Distance (mi) from Cracker Barrel',\n",
        "    ylabel = \"Distance (mi) from Whole Foods\",\n",
        "    title='Percent of Votes that are Democratic Based on\\n Distance from Whole Foods & Cracker Barrel'\n",
        ")\n",
        "\n",
        "\n",
        "axes[0].invert_yaxis()\n",
        "axes[1].invert_yaxis()\n",
        "\n",
        "\n",
        "axes[0].set_yticklabels(\n",
        "    [i.get_text()+\"+\" if \"150\" in i.get_text() else i.get_text() for i in axes[0].get_yticklabels()],\n",
        "     va='center',\n",
        "     rotation=0\n",
        ")\n",
        "axes[1].set_yticklabels(\n",
        "    [i.get_text()+\"+\" if \"150\" in i.get_text() else i.get_text() for i in axes[1].get_yticklabels()],\n",
        "     va='center',\n",
        "     rotation=0\n",
        ")\n",
        "\n",
        "axes[0].set_xticklabels(\n",
        "    [i.get_text()+\"+\" if \"150\" in i.get_text() else i.get_text() for i in axes[1].get_xticklabels()],\n",
        "     va='center',\n",
        "     rotation=0\n",
        ")\n",
        "axes[1].set_xticklabels(\n",
        "    [i.get_text()+\"+\" if \"150\" in i.get_text() else i.get_text() for i in axes[1].get_xticklabels()],\n",
        "     va='center',\n",
        "     rotation=0\n",
        ")\n",
        "\n",
        "cbar = axes[0].collections[0].colorbar\n",
        "cbar.ax.yaxis.set_major_formatter(PercentFormatter(1, 0))\n",
        "\n",
        "\n",
        "cbar = axes[1].collections[0].colorbar\n",
        "cbar.ax.yaxis.set_major_formatter(PercentFormatter(1, 0))\n",
        "\n",
        "axes[0].set(xlim=(0,6.9),ylim=(0,6.9))\n",
        "axes[1].set(xlim=(0,6.9),ylim=(0,6.9))\n",
        "\n",
        "x = np.linspace(0,6.9,100)\n",
        "y = .65*x\n",
        "\n",
        "axes[1].plot(x, y, color='black')\n",
        "axes[1].text(\n",
        "    3,\n",
        "    2.4,\n",
        "    rotation = 21,\n",
        "    s= \"Y = 0.65X\",\n",
        "    weight=\"bold\"\n",
        ")\n",
        "\n",
        "axes[0].plot(x, y, color='black')\n",
        "axes[0].text(\n",
        "    3,\n",
        "    2.4,\n",
        "    rotation = 21,\n",
        "    s= \"Y = 0.65X\",\n",
        "    weight=\"bold\"\n",
        ")\n",
        "\n",
        "\n",
        "fig = g.get_figure()\n",
        "fig.savefig('heatmap.png', dpi=300, bbox_inches=\"tight\")"
      ],
      "execution_count": null,
      "outputs": [
        {
          "output_type": "display_data",
          "data": {
            "text/plain": [
              "<Figure size 640x480 with 0 Axes>"
            ]
          },
          "metadata": {}
        },
        {
          "output_type": "display_data",
          "data": {
            "image/png": "[encoded data removed]",
            "text/plain": [
              "<Figure size 760x800 with 4 Axes>"
            ]
          },
          "metadata": {}
        }
      ]
    },
    {
      "cell_type": "markdown",
      "metadata": {
        "id": "oOXlcwZJZvsJ"
      },
      "source": [
        "# Modeling"
      ]
    },
    {
      "cell_type": "markdown",
      "metadata": {
        "id": "2cuhfL_Xxlg9"
      },
      "source": [
        "## LR"
      ]
    },
    {
      "cell_type": "code",
      "metadata": {
        "id": "VJNguDZJZzLc"
      },
      "source": [
        "h3 = h3_lean.toPandas()"
      ],
      "execution_count": null,
      "outputs": []
    },
    {
      "cell_type": "code",
      "metadata": {
        "id": "xRgCXRvZuOXz"
      },
      "source": [
        "h3_pd = h3[h3['dem_pct'].notnull()]"
      ],
      "execution_count": null,
      "outputs": []
    },
    {
      "cell_type": "code",
      "metadata": {
        "colab": {
          "base_uri": "https://localhost:8080/"
        },
        "id": "pS-8ixtdvm2O",
        "outputId": "bf2d2a03-4f08-4811-ccbe-09334b8ecac0"
      },
      "source": [
        "h3_pd['wf'] = h3_pd['wf']\n",
        "h3_pd['cb'] = h3_pd['cb']\n",
        "max_dist_new = max_dist"
      ],
      "execution_count": null,
      "outputs": [
        {
          "output_type": "stream",
          "name": "stderr",
          "text": [
            "/usr/local/lib/python3.7/dist-packages/ipykernel_launcher.py:1: SettingWithCopyWarning: \n",
            "A value is trying to be set on a copy of a slice from a DataFrame.\n",
            "Try using .loc[row_indexer,col_indexer] = value instead\n",
            "\n",
            "See the caveats in the documentation: https://pandas.pydata.org/pandas-docs/stable/user_guide/indexing.html#returning-a-view-versus-a-copy\n",
            "  \"\"\"Entry point for launching an IPython kernel.\n",
            "/usr/local/lib/python3.7/dist-packages/ipykernel_launcher.py:2: SettingWithCopyWarning: \n",
            "A value is trying to be set on a copy of a slice from a DataFrame.\n",
            "Try using .loc[row_indexer,col_indexer] = value instead\n",
            "\n",
            "See the caveats in the documentation: https://pandas.pydata.org/pandas-docs/stable/user_guide/indexing.html#returning-a-view-versus-a-copy\n",
            "  \n"
          ]
        }
      ]
    },
    {
      "cell_type": "code",
      "metadata": {
        "colab": {
          "base_uri": "https://localhost:8080/"
        },
        "id": "8pEBwQtewAS-",
        "outputId": "f5b81db6-947c-47bd-e878-9127c1d677bc"
      },
      "source": [
        "h3_pd['wf']"
      ],
      "execution_count": null,
      "outputs": [
        {
          "output_type": "execute_result",
          "data": {
            "text/plain": [
              "0               NaN\n",
              "1               NaN\n",
              "2               NaN\n",
              "3        110.663124\n",
              "4         47.291164\n",
              "            ...    \n",
              "30611     92.954002\n",
              "30612           NaN\n",
              "30613           NaN\n",
              "30614    115.878548\n",
              "30615     62.357048\n",
              "Name: wf, Length: 30044, dtype: float32"
            ]
          },
          "metadata": {},
          "execution_count": 234
        }
      ]
    },
    {
      "cell_type": "code",
      "metadata": {
        "id": "bK5czS28Z5Hv"
      },
      "source": [
        "from sklearn.model_selection import train_test_split\n",
        "from sklearn.linear_model import LogisticRegression\n",
        "import sklearn.metrics as metrics"
      ],
      "execution_count": null,
      "outputs": []
    },
    {
      "cell_type": "code",
      "metadata": {
        "id": "j7TIyEess2J_"
      },
      "source": [
        "X = h3_pd.iloc[:, 1:-1].fillna(max_dist_new)\n",
        "y = round(h3_pd.iloc[:,-1], 0)"
      ],
      "execution_count": null,
      "outputs": []
    },
    {
      "cell_type": "code",
      "metadata": {
        "colab": {
          "base_uri": "https://localhost:8080/"
        },
        "id": "XjbQzGmttN8m",
        "outputId": "5aa0e335-c222-4299-94bd-a18a01ad602a"
      },
      "source": [
        "y.mean()"
      ],
      "execution_count": null,
      "outputs": [
        {
          "output_type": "execute_result",
          "data": {
            "text/plain": [
              "0.27123552123552125"
            ]
          },
          "metadata": {},
          "execution_count": 237
        }
      ]
    },
    {
      "cell_type": "code",
      "metadata": {
        "id": "Gkk42WeusvNa"
      },
      "source": [
        "X_train, X_test, y_train, y_test = train_test_split(X, y, test_size=0.33, random_state=47)"
      ],
      "execution_count": null,
      "outputs": []
    },
    {
      "cell_type": "code",
      "metadata": {
        "id": "kaP1W0x7tydY"
      },
      "source": [
        "clf = LogisticRegression(random_state=0).fit(X_train, y_train)"
      ],
      "execution_count": null,
      "outputs": []
    },
    {
      "cell_type": "code",
      "metadata": {
        "id": "81zYxe2fuJAb"
      },
      "source": [
        "y_pred = clf.predict(X_test)"
      ],
      "execution_count": null,
      "outputs": []
    },
    {
      "cell_type": "code",
      "metadata": {
        "id": "41fOXQby2BZT"
      },
      "source": [
        "y_pred_proba = clf.predict_proba(X_test)[:, 1]"
      ],
      "execution_count": null,
      "outputs": []
    },
    {
      "cell_type": "code",
      "metadata": {
        "colab": {
          "base_uri": "https://localhost:8080/"
        },
        "id": "H4uWDWBwvD9Q",
        "outputId": "0fa8b264-e58a-4212-9ad8-df6c3619dd9d"
      },
      "source": [
        "metrics.balanced_accuracy_score(y_test, y_pred)"
      ],
      "execution_count": null,
      "outputs": [
        {
          "output_type": "execute_result",
          "data": {
            "text/plain": [
              "0.6353666137580004"
            ]
          },
          "metadata": {},
          "execution_count": 248
        }
      ]
    },
    {
      "cell_type": "code",
      "metadata": {
        "colab": {
          "base_uri": "https://localhost:8080/"
        },
        "id": "SohdUWzS1oqy",
        "outputId": "c257a679-c980-4f37-bbac-ea58f7bf6b97"
      },
      "source": [
        "metrics.roc_auc_score(y_test, y_pred_proba)"
      ],
      "execution_count": null,
      "outputs": [
        {
          "output_type": "execute_result",
          "data": {
            "text/plain": [
              "0.7319016054187478"
            ]
          },
          "metadata": {},
          "execution_count": 249
        }
      ]
    },
    {
      "cell_type": "code",
      "metadata": {
        "colab": {
          "base_uri": "https://localhost:8080/"
        },
        "id": "SdpyrWmg19bp",
        "outputId": "05730588-8fbc-4cbe-e756-4c28b8d99509"
      },
      "source": [
        "y_pred"
      ],
      "execution_count": null,
      "outputs": [
        {
          "output_type": "execute_result",
          "data": {
            "text/plain": [
              "array([0., 0., 1., ..., 0., 0., 0.])"
            ]
          },
          "metadata": {},
          "execution_count": 229
        }
      ]
    },
    {
      "cell_type": "markdown",
      "metadata": {
        "id": "5RdFOciHxpJU"
      },
      "source": [
        "## XGBoost"
      ]
    },
    {
      "cell_type": "code",
      "metadata": {
        "id": "f9qXlp0ixq7R"
      },
      "source": [
        "from xgboost import XGBClassifier"
      ],
      "execution_count": null,
      "outputs": []
    },
    {
      "cell_type": "code",
      "metadata": {
        "id": "N82_5O_qyNaA"
      },
      "source": [
        "xgb= XGBClassifier()"
      ],
      "execution_count": null,
      "outputs": []
    },
    {
      "cell_type": "code",
      "metadata": {
        "id": "Ord8FdpgxyRn"
      },
      "source": [
        "xgb_model = xgb.fit(X_train, y_train)"
      ],
      "execution_count": null,
      "outputs": []
    },
    {
      "cell_type": "code",
      "metadata": {
        "id": "yN0wyfIeyBM-"
      },
      "source": [
        "xgb_pred = xgb_model.predict(X_test)"
      ],
      "execution_count": null,
      "outputs": []
    },
    {
      "cell_type": "code",
      "metadata": {
        "id": "0tyK2Dns2hGL"
      },
      "source": [
        "xgb_pred_proba = xgb_model.predict_proba(X_test)[:, 1]"
      ],
      "execution_count": null,
      "outputs": []
    },
    {
      "cell_type": "code",
      "metadata": {
        "colab": {
          "base_uri": "https://localhost:8080/"
        },
        "id": "zWp-Ls5wyymp",
        "outputId": "852d84ef-3a67-47f0-d45c-bf3a012ab8b9"
      },
      "source": [
        "balanced_accuracy_score(y_test, xgb_pred)"
      ],
      "execution_count": null,
      "outputs": [
        {
          "output_type": "execute_result",
          "data": {
            "text/plain": [
              "0.6301883114145467"
            ]
          },
          "metadata": {},
          "execution_count": 268
        }
      ]
    },
    {
      "cell_type": "code",
      "metadata": {
        "colab": {
          "base_uri": "https://localhost:8080/"
        },
        "id": "kYPAgsxd2eZh",
        "outputId": "f3234546-2a3c-43f4-a60f-ae71a20fb949"
      },
      "source": [
        "metrics.roc_auc_score(y_test, xgb_pred_proba)"
      ],
      "execution_count": null,
      "outputs": [
        {
          "output_type": "execute_result",
          "data": {
            "text/plain": [
              "0.7530790388764232"
            ]
          },
          "metadata": {},
          "execution_count": 269
        }
      ]
    },
    {
      "cell_type": "markdown",
      "metadata": {
        "id": "JOjNaQ2vy4qK"
      },
      "source": [
        "# Heuristics"
      ]
    },
    {
      "cell_type": "code",
      "metadata": {
        "id": "WmTGJ_OezkLy"
      },
      "source": [
        "dist_list = [20 ,40, 60, 80, 100, 120, 140, max_dist]"
      ],
      "execution_count": null,
      "outputs": []
    },
    {
      "cell_type": "code",
      "metadata": {
        "colab": {
          "base_uri": "https://localhost:8080/"
        },
        "id": "PfwoSwXcy7SX",
        "outputId": "7c1f8067-4706-4beb-dca5-6ef97f327ecc"
      },
      "source": [
        "accuracy_list = []\n",
        "for dist in dist_list:\n",
        "    X_train['predict'] = np.where(\n",
        "        X_train['wf'] <= dist,\n",
        "        1,\n",
        "        0\n",
        "    )\n",
        "    accuracy_list.append(\n",
        "        balanced_accuracy_score(y_train, X_train['predict'])\n",
        "    )"
      ],
      "execution_count": null,
      "outputs": [
        {
          "output_type": "stream",
          "name": "stderr",
          "text": [
            "/usr/local/lib/python3.7/dist-packages/ipykernel_launcher.py:6: SettingWithCopyWarning: \n",
            "A value is trying to be set on a copy of a slice from a DataFrame.\n",
            "Try using .loc[row_indexer,col_indexer] = value instead\n",
            "\n",
            "See the caveats in the documentation: https://pandas.pydata.org/pandas-docs/stable/user_guide/indexing.html#returning-a-view-versus-a-copy\n",
            "  \n",
            "/usr/local/lib/python3.7/dist-packages/ipykernel_launcher.py:6: SettingWithCopyWarning: \n",
            "A value is trying to be set on a copy of a slice from a DataFrame.\n",
            "Try using .loc[row_indexer,col_indexer] = value instead\n",
            "\n",
            "See the caveats in the documentation: https://pandas.pydata.org/pandas-docs/stable/user_guide/indexing.html#returning-a-view-versus-a-copy\n",
            "  \n",
            "/usr/local/lib/python3.7/dist-packages/ipykernel_launcher.py:6: SettingWithCopyWarning: \n",
            "A value is trying to be set on a copy of a slice from a DataFrame.\n",
            "Try using .loc[row_indexer,col_indexer] = value instead\n",
            "\n",
            "See the caveats in the documentation: https://pandas.pydata.org/pandas-docs/stable/user_guide/indexing.html#returning-a-view-versus-a-copy\n",
            "  \n",
            "/usr/local/lib/python3.7/dist-packages/ipykernel_launcher.py:6: SettingWithCopyWarning: \n",
            "A value is trying to be set on a copy of a slice from a DataFrame.\n",
            "Try using .loc[row_indexer,col_indexer] = value instead\n",
            "\n",
            "See the caveats in the documentation: https://pandas.pydata.org/pandas-docs/stable/user_guide/indexing.html#returning-a-view-versus-a-copy\n",
            "  \n",
            "/usr/local/lib/python3.7/dist-packages/ipykernel_launcher.py:6: SettingWithCopyWarning: \n",
            "A value is trying to be set on a copy of a slice from a DataFrame.\n",
            "Try using .loc[row_indexer,col_indexer] = value instead\n",
            "\n",
            "See the caveats in the documentation: https://pandas.pydata.org/pandas-docs/stable/user_guide/indexing.html#returning-a-view-versus-a-copy\n",
            "  \n",
            "/usr/local/lib/python3.7/dist-packages/ipykernel_launcher.py:6: SettingWithCopyWarning: \n",
            "A value is trying to be set on a copy of a slice from a DataFrame.\n",
            "Try using .loc[row_indexer,col_indexer] = value instead\n",
            "\n",
            "See the caveats in the documentation: https://pandas.pydata.org/pandas-docs/stable/user_guide/indexing.html#returning-a-view-versus-a-copy\n",
            "  \n",
            "/usr/local/lib/python3.7/dist-packages/ipykernel_launcher.py:6: SettingWithCopyWarning: \n",
            "A value is trying to be set on a copy of a slice from a DataFrame.\n",
            "Try using .loc[row_indexer,col_indexer] = value instead\n",
            "\n",
            "See the caveats in the documentation: https://pandas.pydata.org/pandas-docs/stable/user_guide/indexing.html#returning-a-view-versus-a-copy\n",
            "  \n",
            "/usr/local/lib/python3.7/dist-packages/ipykernel_launcher.py:6: SettingWithCopyWarning: \n",
            "A value is trying to be set on a copy of a slice from a DataFrame.\n",
            "Try using .loc[row_indexer,col_indexer] = value instead\n",
            "\n",
            "See the caveats in the documentation: https://pandas.pydata.org/pandas-docs/stable/user_guide/indexing.html#returning-a-view-versus-a-copy\n",
            "  \n"
          ]
        }
      ]
    },
    {
      "cell_type": "code",
      "metadata": {
        "colab": {
          "base_uri": "https://localhost:8080/"
        },
        "id": "QUMYhRayzHea",
        "outputId": "ccd60bf3-5d79-49c7-ad4c-4637f3104c3d"
      },
      "source": [
        "accuracy_list"
      ],
      "execution_count": null,
      "outputs": [
        {
          "output_type": "execute_result",
          "data": {
            "text/plain": [
              "[0.547068499093871,\n",
              " 0.6008991848634939,\n",
              " 0.6380970149931814,\n",
              " 0.6582265810283296,\n",
              " 0.671602362111715,\n",
              " 0.6711170225226197,\n",
              " 0.6653683575939027,\n",
              " 0.5]"
            ]
          },
          "metadata": {},
          "execution_count": 272
        }
      ]
    },
    {
      "cell_type": "code",
      "metadata": {
        "colab": {
          "base_uri": "https://localhost:8080/"
        },
        "id": "mLKmepoizXtl",
        "outputId": "f5c17250-bab9-494c-fd39-c1935e39e446"
      },
      "source": [
        "X_test['predict'] = np.where(\n",
        "    X_test['wf'] <= 100,\n",
        "    1,\n",
        "    0\n",
        ")\n",
        "balanced_accuracy_score(y_test, X_test['predict'])"
      ],
      "execution_count": null,
      "outputs": [
        {
          "output_type": "stream",
          "name": "stderr",
          "text": [
            "/usr/local/lib/python3.7/dist-packages/ipykernel_launcher.py:4: SettingWithCopyWarning: \n",
            "A value is trying to be set on a copy of a slice from a DataFrame.\n",
            "Try using .loc[row_indexer,col_indexer] = value instead\n",
            "\n",
            "See the caveats in the documentation: https://pandas.pydata.org/pandas-docs/stable/user_guide/indexing.html#returning-a-view-versus-a-copy\n",
            "  after removing the cwd from sys.path.\n"
          ]
        },
        {
          "output_type": "execute_result",
          "data": {
            "text/plain": [
              "0.6716726869567586"
            ]
          },
          "metadata": {},
          "execution_count": 273
        }
      ]
    },
    {
      "cell_type": "code",
      "metadata": {
        "colab": {
          "base_uri": "https://localhost:8080/"
        },
        "id": "gAoG-Jrk05Uq",
        "outputId": "6014e36e-ac1e-4337-d578-28376e658a33"
      },
      "source": [
        "metrics.roc_auc_score(y_test, X_test['predict'])"
      ],
      "execution_count": null,
      "outputs": [
        {
          "output_type": "execute_result",
          "data": {
            "text/plain": [
              "0.6716726869567586"
            ]
          },
          "metadata": {},
          "execution_count": 275
        }
      ]
    },
    {
      "cell_type": "code",
      "metadata": {
        "id": "joFQx91d7y4N"
      },
      "source": [
        ""
      ],
      "execution_count": null,
      "outputs": []
    }
  ]
}